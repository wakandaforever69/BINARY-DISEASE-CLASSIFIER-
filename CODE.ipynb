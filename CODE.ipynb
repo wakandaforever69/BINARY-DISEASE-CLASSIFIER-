{
  "nbformat": 4,
  "nbformat_minor": 0,
  "metadata": {
    "colab": {
      "provenance": []
    },
    "kernelspec": {
      "name": "python3",
      "display_name": "Python 3"
    },
    "language_info": {
      "name": "python"
    }
  },
  "cells": [
    {
      "cell_type": "code",
      "source": [
        "# MOUNT FILES TO DRIVE\n",
        "from google.colab import drive\n",
        "drive.mount('/content/drive')"
      ],
      "metadata": {
        "colab": {
          "base_uri": "https://localhost:8080/"
        },
        "id": "-vKIISTQNq77",
        "outputId": "7fcd4dc4-15c8-4938-ad82-a8401ab37eb7"
      },
      "execution_count": 1,
      "outputs": [
        {
          "output_type": "stream",
          "name": "stdout",
          "text": [
            "Mounted at /content/drive\n"
          ]
        }
      ]
    },
    {
      "cell_type": "markdown",
      "source": [
        "# **TRAIN_DF PROPERTIES**"
      ],
      "metadata": {
        "id": "Grt4gIeVsVkf"
      }
    },
    {
      "cell_type": "code",
      "source": [
        "train_df.describe()"
      ],
      "metadata": {
        "colab": {
          "base_uri": "https://localhost:8080/",
          "height": 320
        },
        "id": "LOMPae0SsZlw",
        "outputId": "a8a60aa0-41d4-49bf-afeb-31cbb3847d91"
      },
      "execution_count": 16,
      "outputs": [
        {
          "output_type": "execute_result",
          "data": {
            "text/plain": [
              "         feature_1    feature_2    feature_3    feature_4    feature_5  \\\n",
              "count  4000.000000  4000.000000  4000.000000  4000.000000  4000.000000   \n",
              "mean      0.496069     0.491044     0.503519     0.502119     0.495318   \n",
              "std       0.288953     0.291494     0.286390     0.288486     0.287585   \n",
              "min       0.000125     0.000017     0.000012     0.000158     0.000135   \n",
              "25%       0.247032     0.234190     0.251840     0.253933     0.248068   \n",
              "50%       0.494948     0.492201     0.504478     0.505861     0.496022   \n",
              "75%       0.748640     0.745044     0.748674     0.748107     0.745684   \n",
              "max       0.999805     0.999789     0.999957     0.999901     0.999241   \n",
              "\n",
              "         feature_6    feature_7    feature_8    feature_9   feature_10  \\\n",
              "count  4000.000000  4000.000000  4000.000000  4000.000000  4000.000000   \n",
              "mean      0.507759     0.497923     0.497090     0.501020     0.494890   \n",
              "std       0.289912     0.287114     0.288757     0.286779     0.289483   \n",
              "min       0.000048     0.000006     0.000053     0.000110     0.000311   \n",
              "25%       0.257390     0.252403     0.251845     0.249991     0.243098   \n",
              "50%       0.508030     0.500362     0.494209     0.503962     0.492061   \n",
              "75%       0.765333     0.741808     0.752467     0.745230     0.743099   \n",
              "max       0.999697     0.999972     0.999824     0.999350     0.999673   \n",
              "\n",
              "        patient_id    diagnosis  \n",
              "count  4000.000000  4000.000000  \n",
              "mean   2496.694750     0.049000  \n",
              "std    1454.334003     0.215895  \n",
              "min       1.000000     0.000000  \n",
              "25%    1234.750000     0.000000  \n",
              "50%    2493.500000     0.000000  \n",
              "75%    3771.250000     0.000000  \n",
              "max    5000.000000     1.000000  "
            ],
            "text/html": [
              "\n",
              "  <div id=\"df-98043fa0-fabc-43b9-8921-a9bc37918bf9\" class=\"colab-df-container\">\n",
              "    <div>\n",
              "<style scoped>\n",
              "    .dataframe tbody tr th:only-of-type {\n",
              "        vertical-align: middle;\n",
              "    }\n",
              "\n",
              "    .dataframe tbody tr th {\n",
              "        vertical-align: top;\n",
              "    }\n",
              "\n",
              "    .dataframe thead th {\n",
              "        text-align: right;\n",
              "    }\n",
              "</style>\n",
              "<table border=\"1\" class=\"dataframe\">\n",
              "  <thead>\n",
              "    <tr style=\"text-align: right;\">\n",
              "      <th></th>\n",
              "      <th>feature_1</th>\n",
              "      <th>feature_2</th>\n",
              "      <th>feature_3</th>\n",
              "      <th>feature_4</th>\n",
              "      <th>feature_5</th>\n",
              "      <th>feature_6</th>\n",
              "      <th>feature_7</th>\n",
              "      <th>feature_8</th>\n",
              "      <th>feature_9</th>\n",
              "      <th>feature_10</th>\n",
              "      <th>patient_id</th>\n",
              "      <th>diagnosis</th>\n",
              "    </tr>\n",
              "  </thead>\n",
              "  <tbody>\n",
              "    <tr>\n",
              "      <th>count</th>\n",
              "      <td>4000.000000</td>\n",
              "      <td>4000.000000</td>\n",
              "      <td>4000.000000</td>\n",
              "      <td>4000.000000</td>\n",
              "      <td>4000.000000</td>\n",
              "      <td>4000.000000</td>\n",
              "      <td>4000.000000</td>\n",
              "      <td>4000.000000</td>\n",
              "      <td>4000.000000</td>\n",
              "      <td>4000.000000</td>\n",
              "      <td>4000.000000</td>\n",
              "      <td>4000.000000</td>\n",
              "    </tr>\n",
              "    <tr>\n",
              "      <th>mean</th>\n",
              "      <td>0.496069</td>\n",
              "      <td>0.491044</td>\n",
              "      <td>0.503519</td>\n",
              "      <td>0.502119</td>\n",
              "      <td>0.495318</td>\n",
              "      <td>0.507759</td>\n",
              "      <td>0.497923</td>\n",
              "      <td>0.497090</td>\n",
              "      <td>0.501020</td>\n",
              "      <td>0.494890</td>\n",
              "      <td>2496.694750</td>\n",
              "      <td>0.049000</td>\n",
              "    </tr>\n",
              "    <tr>\n",
              "      <th>std</th>\n",
              "      <td>0.288953</td>\n",
              "      <td>0.291494</td>\n",
              "      <td>0.286390</td>\n",
              "      <td>0.288486</td>\n",
              "      <td>0.287585</td>\n",
              "      <td>0.289912</td>\n",
              "      <td>0.287114</td>\n",
              "      <td>0.288757</td>\n",
              "      <td>0.286779</td>\n",
              "      <td>0.289483</td>\n",
              "      <td>1454.334003</td>\n",
              "      <td>0.215895</td>\n",
              "    </tr>\n",
              "    <tr>\n",
              "      <th>min</th>\n",
              "      <td>0.000125</td>\n",
              "      <td>0.000017</td>\n",
              "      <td>0.000012</td>\n",
              "      <td>0.000158</td>\n",
              "      <td>0.000135</td>\n",
              "      <td>0.000048</td>\n",
              "      <td>0.000006</td>\n",
              "      <td>0.000053</td>\n",
              "      <td>0.000110</td>\n",
              "      <td>0.000311</td>\n",
              "      <td>1.000000</td>\n",
              "      <td>0.000000</td>\n",
              "    </tr>\n",
              "    <tr>\n",
              "      <th>25%</th>\n",
              "      <td>0.247032</td>\n",
              "      <td>0.234190</td>\n",
              "      <td>0.251840</td>\n",
              "      <td>0.253933</td>\n",
              "      <td>0.248068</td>\n",
              "      <td>0.257390</td>\n",
              "      <td>0.252403</td>\n",
              "      <td>0.251845</td>\n",
              "      <td>0.249991</td>\n",
              "      <td>0.243098</td>\n",
              "      <td>1234.750000</td>\n",
              "      <td>0.000000</td>\n",
              "    </tr>\n",
              "    <tr>\n",
              "      <th>50%</th>\n",
              "      <td>0.494948</td>\n",
              "      <td>0.492201</td>\n",
              "      <td>0.504478</td>\n",
              "      <td>0.505861</td>\n",
              "      <td>0.496022</td>\n",
              "      <td>0.508030</td>\n",
              "      <td>0.500362</td>\n",
              "      <td>0.494209</td>\n",
              "      <td>0.503962</td>\n",
              "      <td>0.492061</td>\n",
              "      <td>2493.500000</td>\n",
              "      <td>0.000000</td>\n",
              "    </tr>\n",
              "    <tr>\n",
              "      <th>75%</th>\n",
              "      <td>0.748640</td>\n",
              "      <td>0.745044</td>\n",
              "      <td>0.748674</td>\n",
              "      <td>0.748107</td>\n",
              "      <td>0.745684</td>\n",
              "      <td>0.765333</td>\n",
              "      <td>0.741808</td>\n",
              "      <td>0.752467</td>\n",
              "      <td>0.745230</td>\n",
              "      <td>0.743099</td>\n",
              "      <td>3771.250000</td>\n",
              "      <td>0.000000</td>\n",
              "    </tr>\n",
              "    <tr>\n",
              "      <th>max</th>\n",
              "      <td>0.999805</td>\n",
              "      <td>0.999789</td>\n",
              "      <td>0.999957</td>\n",
              "      <td>0.999901</td>\n",
              "      <td>0.999241</td>\n",
              "      <td>0.999697</td>\n",
              "      <td>0.999972</td>\n",
              "      <td>0.999824</td>\n",
              "      <td>0.999350</td>\n",
              "      <td>0.999673</td>\n",
              "      <td>5000.000000</td>\n",
              "      <td>1.000000</td>\n",
              "    </tr>\n",
              "  </tbody>\n",
              "</table>\n",
              "</div>\n",
              "    <div class=\"colab-df-buttons\">\n",
              "\n",
              "  <div class=\"colab-df-container\">\n",
              "    <button class=\"colab-df-convert\" onclick=\"convertToInteractive('df-98043fa0-fabc-43b9-8921-a9bc37918bf9')\"\n",
              "            title=\"Convert this dataframe to an interactive table.\"\n",
              "            style=\"display:none;\">\n",
              "\n",
              "  <svg xmlns=\"http://www.w3.org/2000/svg\" height=\"24px\" viewBox=\"0 -960 960 960\">\n",
              "    <path d=\"M120-120v-720h720v720H120Zm60-500h600v-160H180v160Zm220 220h160v-160H400v160Zm0 220h160v-160H400v160ZM180-400h160v-160H180v160Zm440 0h160v-160H620v160ZM180-180h160v-160H180v160Zm440 0h160v-160H620v160Z\"/>\n",
              "  </svg>\n",
              "    </button>\n",
              "\n",
              "  <style>\n",
              "    .colab-df-container {\n",
              "      display:flex;\n",
              "      gap: 12px;\n",
              "    }\n",
              "\n",
              "    .colab-df-convert {\n",
              "      background-color: #E8F0FE;\n",
              "      border: none;\n",
              "      border-radius: 50%;\n",
              "      cursor: pointer;\n",
              "      display: none;\n",
              "      fill: #1967D2;\n",
              "      height: 32px;\n",
              "      padding: 0 0 0 0;\n",
              "      width: 32px;\n",
              "    }\n",
              "\n",
              "    .colab-df-convert:hover {\n",
              "      background-color: #E2EBFA;\n",
              "      box-shadow: 0px 1px 2px rgba(60, 64, 67, 0.3), 0px 1px 3px 1px rgba(60, 64, 67, 0.15);\n",
              "      fill: #174EA6;\n",
              "    }\n",
              "\n",
              "    .colab-df-buttons div {\n",
              "      margin-bottom: 4px;\n",
              "    }\n",
              "\n",
              "    [theme=dark] .colab-df-convert {\n",
              "      background-color: #3B4455;\n",
              "      fill: #D2E3FC;\n",
              "    }\n",
              "\n",
              "    [theme=dark] .colab-df-convert:hover {\n",
              "      background-color: #434B5C;\n",
              "      box-shadow: 0px 1px 3px 1px rgba(0, 0, 0, 0.15);\n",
              "      filter: drop-shadow(0px 1px 2px rgba(0, 0, 0, 0.3));\n",
              "      fill: #FFFFFF;\n",
              "    }\n",
              "  </style>\n",
              "\n",
              "    <script>\n",
              "      const buttonEl =\n",
              "        document.querySelector('#df-98043fa0-fabc-43b9-8921-a9bc37918bf9 button.colab-df-convert');\n",
              "      buttonEl.style.display =\n",
              "        google.colab.kernel.accessAllowed ? 'block' : 'none';\n",
              "\n",
              "      async function convertToInteractive(key) {\n",
              "        const element = document.querySelector('#df-98043fa0-fabc-43b9-8921-a9bc37918bf9');\n",
              "        const dataTable =\n",
              "          await google.colab.kernel.invokeFunction('convertToInteractive',\n",
              "                                                    [key], {});\n",
              "        if (!dataTable) return;\n",
              "\n",
              "        const docLinkHtml = 'Like what you see? Visit the ' +\n",
              "          '<a target=\"_blank\" href=https://colab.research.google.com/notebooks/data_table.ipynb>data table notebook</a>'\n",
              "          + ' to learn more about interactive tables.';\n",
              "        element.innerHTML = '';\n",
              "        dataTable['output_type'] = 'display_data';\n",
              "        await google.colab.output.renderOutput(dataTable, element);\n",
              "        const docLink = document.createElement('div');\n",
              "        docLink.innerHTML = docLinkHtml;\n",
              "        element.appendChild(docLink);\n",
              "      }\n",
              "    </script>\n",
              "  </div>\n",
              "\n",
              "\n",
              "<div id=\"df-eaa46763-d48d-4a18-bad0-348da76d3739\">\n",
              "  <button class=\"colab-df-quickchart\" onclick=\"quickchart('df-eaa46763-d48d-4a18-bad0-348da76d3739')\"\n",
              "            title=\"Suggest charts\"\n",
              "            style=\"display:none;\">\n",
              "\n",
              "<svg xmlns=\"http://www.w3.org/2000/svg\" height=\"24px\"viewBox=\"0 0 24 24\"\n",
              "     width=\"24px\">\n",
              "    <g>\n",
              "        <path d=\"M19 3H5c-1.1 0-2 .9-2 2v14c0 1.1.9 2 2 2h14c1.1 0 2-.9 2-2V5c0-1.1-.9-2-2-2zM9 17H7v-7h2v7zm4 0h-2V7h2v10zm4 0h-2v-4h2v4z\"/>\n",
              "    </g>\n",
              "</svg>\n",
              "  </button>\n",
              "\n",
              "<style>\n",
              "  .colab-df-quickchart {\n",
              "      --bg-color: #E8F0FE;\n",
              "      --fill-color: #1967D2;\n",
              "      --hover-bg-color: #E2EBFA;\n",
              "      --hover-fill-color: #174EA6;\n",
              "      --disabled-fill-color: #AAA;\n",
              "      --disabled-bg-color: #DDD;\n",
              "  }\n",
              "\n",
              "  [theme=dark] .colab-df-quickchart {\n",
              "      --bg-color: #3B4455;\n",
              "      --fill-color: #D2E3FC;\n",
              "      --hover-bg-color: #434B5C;\n",
              "      --hover-fill-color: #FFFFFF;\n",
              "      --disabled-bg-color: #3B4455;\n",
              "      --disabled-fill-color: #666;\n",
              "  }\n",
              "\n",
              "  .colab-df-quickchart {\n",
              "    background-color: var(--bg-color);\n",
              "    border: none;\n",
              "    border-radius: 50%;\n",
              "    cursor: pointer;\n",
              "    display: none;\n",
              "    fill: var(--fill-color);\n",
              "    height: 32px;\n",
              "    padding: 0;\n",
              "    width: 32px;\n",
              "  }\n",
              "\n",
              "  .colab-df-quickchart:hover {\n",
              "    background-color: var(--hover-bg-color);\n",
              "    box-shadow: 0 1px 2px rgba(60, 64, 67, 0.3), 0 1px 3px 1px rgba(60, 64, 67, 0.15);\n",
              "    fill: var(--button-hover-fill-color);\n",
              "  }\n",
              "\n",
              "  .colab-df-quickchart-complete:disabled,\n",
              "  .colab-df-quickchart-complete:disabled:hover {\n",
              "    background-color: var(--disabled-bg-color);\n",
              "    fill: var(--disabled-fill-color);\n",
              "    box-shadow: none;\n",
              "  }\n",
              "\n",
              "  .colab-df-spinner {\n",
              "    border: 2px solid var(--fill-color);\n",
              "    border-color: transparent;\n",
              "    border-bottom-color: var(--fill-color);\n",
              "    animation:\n",
              "      spin 1s steps(1) infinite;\n",
              "  }\n",
              "\n",
              "  @keyframes spin {\n",
              "    0% {\n",
              "      border-color: transparent;\n",
              "      border-bottom-color: var(--fill-color);\n",
              "      border-left-color: var(--fill-color);\n",
              "    }\n",
              "    20% {\n",
              "      border-color: transparent;\n",
              "      border-left-color: var(--fill-color);\n",
              "      border-top-color: var(--fill-color);\n",
              "    }\n",
              "    30% {\n",
              "      border-color: transparent;\n",
              "      border-left-color: var(--fill-color);\n",
              "      border-top-color: var(--fill-color);\n",
              "      border-right-color: var(--fill-color);\n",
              "    }\n",
              "    40% {\n",
              "      border-color: transparent;\n",
              "      border-right-color: var(--fill-color);\n",
              "      border-top-color: var(--fill-color);\n",
              "    }\n",
              "    60% {\n",
              "      border-color: transparent;\n",
              "      border-right-color: var(--fill-color);\n",
              "    }\n",
              "    80% {\n",
              "      border-color: transparent;\n",
              "      border-right-color: var(--fill-color);\n",
              "      border-bottom-color: var(--fill-color);\n",
              "    }\n",
              "    90% {\n",
              "      border-color: transparent;\n",
              "      border-bottom-color: var(--fill-color);\n",
              "    }\n",
              "  }\n",
              "</style>\n",
              "\n",
              "  <script>\n",
              "    async function quickchart(key) {\n",
              "      const quickchartButtonEl =\n",
              "        document.querySelector('#' + key + ' button');\n",
              "      quickchartButtonEl.disabled = true;  // To prevent multiple clicks.\n",
              "      quickchartButtonEl.classList.add('colab-df-spinner');\n",
              "      try {\n",
              "        const charts = await google.colab.kernel.invokeFunction(\n",
              "            'suggestCharts', [key], {});\n",
              "      } catch (error) {\n",
              "        console.error('Error during call to suggestCharts:', error);\n",
              "      }\n",
              "      quickchartButtonEl.classList.remove('colab-df-spinner');\n",
              "      quickchartButtonEl.classList.add('colab-df-quickchart-complete');\n",
              "    }\n",
              "    (() => {\n",
              "      let quickchartButtonEl =\n",
              "        document.querySelector('#df-eaa46763-d48d-4a18-bad0-348da76d3739 button');\n",
              "      quickchartButtonEl.style.display =\n",
              "        google.colab.kernel.accessAllowed ? 'block' : 'none';\n",
              "    })();\n",
              "  </script>\n",
              "</div>\n",
              "\n",
              "    </div>\n",
              "  </div>\n"
            ],
            "application/vnd.google.colaboratory.intrinsic+json": {
              "type": "dataframe",
              "summary": "{\n  \"name\": \"train_df\",\n  \"rows\": 8,\n  \"fields\": [\n    {\n      \"column\": \"feature_1\",\n      \"properties\": {\n        \"dtype\": \"number\",\n        \"std\": 1414.0481545422565,\n        \"min\": 0.0001251387565754,\n        \"max\": 4000.0,\n        \"num_unique_values\": 8,\n        \"samples\": [\n          0.4960685098173499,\n          0.49494789820585483,\n          4000.0\n        ],\n        \"semantic_type\": \"\",\n        \"description\": \"\"\n      }\n    },\n    {\n      \"column\": \"feature_2\",\n      \"properties\": {\n        \"dtype\": \"number\",\n        \"std\": 1414.0492552648354,\n        \"min\": 1.6736257934746313e-05,\n        \"max\": 4000.0,\n        \"num_unique_values\": 8,\n        \"samples\": [\n          0.4910440947494825,\n          0.4922014013489434,\n          4000.0\n        ],\n        \"semantic_type\": \"\",\n        \"description\": \"\"\n      }\n    },\n    {\n      \"column\": \"feature_3\",\n      \"properties\": {\n        \"dtype\": \"number\",\n        \"std\": 1414.0471798212534,\n        \"min\": 1.1634755366141114e-05,\n        \"max\": 4000.0,\n        \"num_unique_values\": 8,\n        \"samples\": [\n          0.5035194627572184,\n          0.504477735553968,\n          4000.0\n        ],\n        \"semantic_type\": \"\",\n        \"description\": \"\"\n      }\n    },\n    {\n      \"column\": \"feature_4\",\n      \"properties\": {\n        \"dtype\": \"number\",\n        \"std\": 1414.0469930612126,\n        \"min\": 0.0001577445780567,\n        \"max\": 4000.0,\n        \"num_unique_values\": 8,\n        \"samples\": [\n          0.5021190229930357,\n          0.505860939372993,\n          4000.0\n        ],\n        \"semantic_type\": \"\",\n        \"description\": \"\"\n      }\n    },\n    {\n      \"column\": \"feature_5\",\n      \"properties\": {\n        \"dtype\": \"number\",\n        \"std\": 1414.0483321696606,\n        \"min\": 0.0001346930044853,\n        \"max\": 4000.0,\n        \"num_unique_values\": 8,\n        \"samples\": [\n          0.4953180986997695,\n          0.49602221975450106,\n          4000.0\n        ],\n        \"semantic_type\": \"\",\n        \"description\": \"\"\n      }\n    },\n    {\n      \"column\": \"feature_6\",\n      \"properties\": {\n        \"dtype\": \"number\",\n        \"std\": 1414.0454981930225,\n        \"min\": 4.81238943117468e-05,\n        \"max\": 4000.0,\n        \"num_unique_values\": 8,\n        \"samples\": [\n          0.5077592004878805,\n          0.5080297406928111,\n          4000.0\n        ],\n        \"semantic_type\": \"\",\n        \"description\": \"\"\n      }\n    },\n    {\n      \"column\": \"feature_7\",\n      \"properties\": {\n        \"dtype\": \"number\",\n        \"std\": 1414.047951376942,\n        \"min\": 5.536675737993768e-06,\n        \"max\": 4000.0,\n        \"num_unique_values\": 8,\n        \"samples\": [\n          0.497923016921944,\n          0.500362011329674,\n          4000.0\n        ],\n        \"semantic_type\": \"\",\n        \"description\": \"\"\n      }\n    },\n    {\n      \"column\": \"feature_8\",\n      \"properties\": {\n        \"dtype\": \"number\",\n        \"std\": 1414.0477164909785,\n        \"min\": 5.282693229680113e-05,\n        \"max\": 4000.0,\n        \"num_unique_values\": 8,\n        \"samples\": [\n          0.49708955682155553,\n          0.4942093980877906,\n          4000.0\n        ],\n        \"semantic_type\": \"\",\n        \"description\": \"\"\n      }\n    },\n    {\n      \"column\": \"feature_9\",\n      \"properties\": {\n        \"dtype\": \"number\",\n        \"std\": 1414.0476053097514,\n        \"min\": 0.0001102318018224,\n        \"max\": 4000.0,\n        \"num_unique_values\": 8,\n        \"samples\": [\n          0.501019904985019,\n          0.503962208755036,\n          4000.0\n        ],\n        \"semantic_type\": \"\",\n        \"description\": \"\"\n      }\n    },\n    {\n      \"column\": \"feature_10\",\n      \"properties\": {\n        \"dtype\": \"number\",\n        \"std\": 1414.0488087777835,\n        \"min\": 0.0003110125288008,\n        \"max\": 4000.0,\n        \"num_unique_values\": 8,\n        \"samples\": [\n          0.49488986604893376,\n          0.49206127692394963,\n          4000.0\n        ],\n        \"semantic_type\": \"\",\n        \"description\": \"\"\n      }\n    },\n    {\n      \"column\": \"patient_id\",\n      \"properties\": {\n        \"dtype\": \"number\",\n        \"std\": 1648.8056672828527,\n        \"min\": 1.0,\n        \"max\": 5000.0,\n        \"num_unique_values\": 8,\n        \"samples\": [\n          2496.69475,\n          2493.5,\n          4000.0\n        ],\n        \"semantic_type\": \"\",\n        \"description\": \"\"\n      }\n    },\n    {\n      \"column\": \"diagnosis\",\n      \"properties\": {\n        \"dtype\": \"number\",\n        \"std\": 1414.149716968415,\n        \"min\": 0.0,\n        \"max\": 4000.0,\n        \"num_unique_values\": 5,\n        \"samples\": [\n          0.049,\n          1.0,\n          0.21589500379389465\n        ],\n        \"semantic_type\": \"\",\n        \"description\": \"\"\n      }\n    }\n  ]\n}"
            }
          },
          "metadata": {},
          "execution_count": 16
        }
      ]
    },
    {
      "cell_type": "code",
      "source": [
        "train_df.info()"
      ],
      "metadata": {
        "colab": {
          "base_uri": "https://localhost:8080/"
        },
        "id": "p3IAuQnKs5Ea",
        "outputId": "5197ea45-fe65-47ad-bf7a-5457ee790fc6"
      },
      "execution_count": 17,
      "outputs": [
        {
          "output_type": "stream",
          "name": "stdout",
          "text": [
            "<class 'pandas.core.frame.DataFrame'>\n",
            "RangeIndex: 4000 entries, 0 to 3999\n",
            "Data columns (total 12 columns):\n",
            " #   Column      Non-Null Count  Dtype  \n",
            "---  ------      --------------  -----  \n",
            " 0   feature_1   4000 non-null   float64\n",
            " 1   feature_2   4000 non-null   float64\n",
            " 2   feature_3   4000 non-null   float64\n",
            " 3   feature_4   4000 non-null   float64\n",
            " 4   feature_5   4000 non-null   float64\n",
            " 5   feature_6   4000 non-null   float64\n",
            " 6   feature_7   4000 non-null   float64\n",
            " 7   feature_8   4000 non-null   float64\n",
            " 8   feature_9   4000 non-null   float64\n",
            " 9   feature_10  4000 non-null   float64\n",
            " 10  patient_id  4000 non-null   int64  \n",
            " 11  diagnosis   4000 non-null   int64  \n",
            "dtypes: float64(10), int64(2)\n",
            "memory usage: 375.1 KB\n"
          ]
        }
      ]
    },
    {
      "cell_type": "code",
      "source": [
        "train_df.count()"
      ],
      "metadata": {
        "colab": {
          "base_uri": "https://localhost:8080/"
        },
        "id": "7e-JdDP-tBnX",
        "outputId": "4ff33e81-4acb-48db-e019-67668a4ddc68"
      },
      "execution_count": 18,
      "outputs": [
        {
          "output_type": "execute_result",
          "data": {
            "text/plain": [
              "feature_1     4000\n",
              "feature_2     4000\n",
              "feature_3     4000\n",
              "feature_4     4000\n",
              "feature_5     4000\n",
              "feature_6     4000\n",
              "feature_7     4000\n",
              "feature_8     4000\n",
              "feature_9     4000\n",
              "feature_10    4000\n",
              "patient_id    4000\n",
              "diagnosis     4000\n",
              "dtype: int64"
            ]
          },
          "metadata": {},
          "execution_count": 18
        }
      ]
    },
    {
      "cell_type": "code",
      "source": [
        "train_df.columns"
      ],
      "metadata": {
        "colab": {
          "base_uri": "https://localhost:8080/"
        },
        "id": "A_DK3LdbtGAk",
        "outputId": "8adeac40-1527-4047-881d-dbec6afc653d"
      },
      "execution_count": 21,
      "outputs": [
        {
          "output_type": "execute_result",
          "data": {
            "text/plain": [
              "Index(['feature_1', 'feature_2', 'feature_3', 'feature_4', 'feature_5',\n",
              "       'feature_6', 'feature_7', 'feature_8', 'feature_9', 'feature_10',\n",
              "       'patient_id', 'diagnosis'],\n",
              "      dtype='object')"
            ]
          },
          "metadata": {},
          "execution_count": 21
        }
      ]
    },
    {
      "cell_type": "code",
      "source": [
        "train_df[train_df.duplicated()]"
      ],
      "metadata": {
        "colab": {
          "base_uri": "https://localhost:8080/",
          "height": 53
        },
        "id": "KwNZUbtstVnw",
        "outputId": "9f167372-1648-42d6-c1ec-b41c48f0a88b"
      },
      "execution_count": 22,
      "outputs": [
        {
          "output_type": "execute_result",
          "data": {
            "text/plain": [
              "Empty DataFrame\n",
              "Columns: [feature_1, feature_2, feature_3, feature_4, feature_5, feature_6, feature_7, feature_8, feature_9, feature_10, patient_id, diagnosis]\n",
              "Index: []"
            ],
            "text/html": [
              "\n",
              "  <div id=\"df-04f73768-d31a-414a-a342-1b5d3104e12d\" class=\"colab-df-container\">\n",
              "    <div>\n",
              "<style scoped>\n",
              "    .dataframe tbody tr th:only-of-type {\n",
              "        vertical-align: middle;\n",
              "    }\n",
              "\n",
              "    .dataframe tbody tr th {\n",
              "        vertical-align: top;\n",
              "    }\n",
              "\n",
              "    .dataframe thead th {\n",
              "        text-align: right;\n",
              "    }\n",
              "</style>\n",
              "<table border=\"1\" class=\"dataframe\">\n",
              "  <thead>\n",
              "    <tr style=\"text-align: right;\">\n",
              "      <th></th>\n",
              "      <th>feature_1</th>\n",
              "      <th>feature_2</th>\n",
              "      <th>feature_3</th>\n",
              "      <th>feature_4</th>\n",
              "      <th>feature_5</th>\n",
              "      <th>feature_6</th>\n",
              "      <th>feature_7</th>\n",
              "      <th>feature_8</th>\n",
              "      <th>feature_9</th>\n",
              "      <th>feature_10</th>\n",
              "      <th>patient_id</th>\n",
              "      <th>diagnosis</th>\n",
              "    </tr>\n",
              "  </thead>\n",
              "  <tbody>\n",
              "  </tbody>\n",
              "</table>\n",
              "</div>\n",
              "    <div class=\"colab-df-buttons\">\n",
              "\n",
              "  <div class=\"colab-df-container\">\n",
              "    <button class=\"colab-df-convert\" onclick=\"convertToInteractive('df-04f73768-d31a-414a-a342-1b5d3104e12d')\"\n",
              "            title=\"Convert this dataframe to an interactive table.\"\n",
              "            style=\"display:none;\">\n",
              "\n",
              "  <svg xmlns=\"http://www.w3.org/2000/svg\" height=\"24px\" viewBox=\"0 -960 960 960\">\n",
              "    <path d=\"M120-120v-720h720v720H120Zm60-500h600v-160H180v160Zm220 220h160v-160H400v160Zm0 220h160v-160H400v160ZM180-400h160v-160H180v160Zm440 0h160v-160H620v160ZM180-180h160v-160H180v160Zm440 0h160v-160H620v160Z\"/>\n",
              "  </svg>\n",
              "    </button>\n",
              "\n",
              "  <style>\n",
              "    .colab-df-container {\n",
              "      display:flex;\n",
              "      gap: 12px;\n",
              "    }\n",
              "\n",
              "    .colab-df-convert {\n",
              "      background-color: #E8F0FE;\n",
              "      border: none;\n",
              "      border-radius: 50%;\n",
              "      cursor: pointer;\n",
              "      display: none;\n",
              "      fill: #1967D2;\n",
              "      height: 32px;\n",
              "      padding: 0 0 0 0;\n",
              "      width: 32px;\n",
              "    }\n",
              "\n",
              "    .colab-df-convert:hover {\n",
              "      background-color: #E2EBFA;\n",
              "      box-shadow: 0px 1px 2px rgba(60, 64, 67, 0.3), 0px 1px 3px 1px rgba(60, 64, 67, 0.15);\n",
              "      fill: #174EA6;\n",
              "    }\n",
              "\n",
              "    .colab-df-buttons div {\n",
              "      margin-bottom: 4px;\n",
              "    }\n",
              "\n",
              "    [theme=dark] .colab-df-convert {\n",
              "      background-color: #3B4455;\n",
              "      fill: #D2E3FC;\n",
              "    }\n",
              "\n",
              "    [theme=dark] .colab-df-convert:hover {\n",
              "      background-color: #434B5C;\n",
              "      box-shadow: 0px 1px 3px 1px rgba(0, 0, 0, 0.15);\n",
              "      filter: drop-shadow(0px 1px 2px rgba(0, 0, 0, 0.3));\n",
              "      fill: #FFFFFF;\n",
              "    }\n",
              "  </style>\n",
              "\n",
              "    <script>\n",
              "      const buttonEl =\n",
              "        document.querySelector('#df-04f73768-d31a-414a-a342-1b5d3104e12d button.colab-df-convert');\n",
              "      buttonEl.style.display =\n",
              "        google.colab.kernel.accessAllowed ? 'block' : 'none';\n",
              "\n",
              "      async function convertToInteractive(key) {\n",
              "        const element = document.querySelector('#df-04f73768-d31a-414a-a342-1b5d3104e12d');\n",
              "        const dataTable =\n",
              "          await google.colab.kernel.invokeFunction('convertToInteractive',\n",
              "                                                    [key], {});\n",
              "        if (!dataTable) return;\n",
              "\n",
              "        const docLinkHtml = 'Like what you see? Visit the ' +\n",
              "          '<a target=\"_blank\" href=https://colab.research.google.com/notebooks/data_table.ipynb>data table notebook</a>'\n",
              "          + ' to learn more about interactive tables.';\n",
              "        element.innerHTML = '';\n",
              "        dataTable['output_type'] = 'display_data';\n",
              "        await google.colab.output.renderOutput(dataTable, element);\n",
              "        const docLink = document.createElement('div');\n",
              "        docLink.innerHTML = docLinkHtml;\n",
              "        element.appendChild(docLink);\n",
              "      }\n",
              "    </script>\n",
              "  </div>\n",
              "\n",
              "\n",
              "    </div>\n",
              "  </div>\n"
            ],
            "application/vnd.google.colaboratory.intrinsic+json": {
              "type": "dataframe",
              "summary": "{\n  \"name\": \"train_df[train_df\",\n  \"rows\": 0,\n  \"fields\": [\n    {\n      \"column\": \"feature_1\",\n      \"properties\": {\n        \"dtype\": \"number\",\n        \"std\": null,\n        \"min\": null,\n        \"max\": null,\n        \"num_unique_values\": 0,\n        \"samples\": [],\n        \"semantic_type\": \"\",\n        \"description\": \"\"\n      }\n    },\n    {\n      \"column\": \"feature_2\",\n      \"properties\": {\n        \"dtype\": \"number\",\n        \"std\": null,\n        \"min\": null,\n        \"max\": null,\n        \"num_unique_values\": 0,\n        \"samples\": [],\n        \"semantic_type\": \"\",\n        \"description\": \"\"\n      }\n    },\n    {\n      \"column\": \"feature_3\",\n      \"properties\": {\n        \"dtype\": \"number\",\n        \"std\": null,\n        \"min\": null,\n        \"max\": null,\n        \"num_unique_values\": 0,\n        \"samples\": [],\n        \"semantic_type\": \"\",\n        \"description\": \"\"\n      }\n    },\n    {\n      \"column\": \"feature_4\",\n      \"properties\": {\n        \"dtype\": \"number\",\n        \"std\": null,\n        \"min\": null,\n        \"max\": null,\n        \"num_unique_values\": 0,\n        \"samples\": [],\n        \"semantic_type\": \"\",\n        \"description\": \"\"\n      }\n    },\n    {\n      \"column\": \"feature_5\",\n      \"properties\": {\n        \"dtype\": \"number\",\n        \"std\": null,\n        \"min\": null,\n        \"max\": null,\n        \"num_unique_values\": 0,\n        \"samples\": [],\n        \"semantic_type\": \"\",\n        \"description\": \"\"\n      }\n    },\n    {\n      \"column\": \"feature_6\",\n      \"properties\": {\n        \"dtype\": \"number\",\n        \"std\": null,\n        \"min\": null,\n        \"max\": null,\n        \"num_unique_values\": 0,\n        \"samples\": [],\n        \"semantic_type\": \"\",\n        \"description\": \"\"\n      }\n    },\n    {\n      \"column\": \"feature_7\",\n      \"properties\": {\n        \"dtype\": \"number\",\n        \"std\": null,\n        \"min\": null,\n        \"max\": null,\n        \"num_unique_values\": 0,\n        \"samples\": [],\n        \"semantic_type\": \"\",\n        \"description\": \"\"\n      }\n    },\n    {\n      \"column\": \"feature_8\",\n      \"properties\": {\n        \"dtype\": \"number\",\n        \"std\": null,\n        \"min\": null,\n        \"max\": null,\n        \"num_unique_values\": 0,\n        \"samples\": [],\n        \"semantic_type\": \"\",\n        \"description\": \"\"\n      }\n    },\n    {\n      \"column\": \"feature_9\",\n      \"properties\": {\n        \"dtype\": \"number\",\n        \"std\": null,\n        \"min\": null,\n        \"max\": null,\n        \"num_unique_values\": 0,\n        \"samples\": [],\n        \"semantic_type\": \"\",\n        \"description\": \"\"\n      }\n    },\n    {\n      \"column\": \"feature_10\",\n      \"properties\": {\n        \"dtype\": \"number\",\n        \"std\": null,\n        \"min\": null,\n        \"max\": null,\n        \"num_unique_values\": 0,\n        \"samples\": [],\n        \"semantic_type\": \"\",\n        \"description\": \"\"\n      }\n    },\n    {\n      \"column\": \"patient_id\",\n      \"properties\": {\n        \"dtype\": \"number\",\n        \"std\": null,\n        \"min\": null,\n        \"max\": null,\n        \"num_unique_values\": 0,\n        \"samples\": [],\n        \"semantic_type\": \"\",\n        \"description\": \"\"\n      }\n    },\n    {\n      \"column\": \"diagnosis\",\n      \"properties\": {\n        \"dtype\": \"number\",\n        \"std\": null,\n        \"min\": null,\n        \"max\": null,\n        \"num_unique_values\": 0,\n        \"samples\": [],\n        \"semantic_type\": \"\",\n        \"description\": \"\"\n      }\n    }\n  ]\n}"
            }
          },
          "metadata": {},
          "execution_count": 22
        }
      ]
    },
    {
      "cell_type": "code",
      "source": [
        "train_df.shape"
      ],
      "metadata": {
        "colab": {
          "base_uri": "https://localhost:8080/"
        },
        "id": "0txJNdi_tcVI",
        "outputId": "e4c14083-2fff-4e1b-b6e7-aebd9126a48c"
      },
      "execution_count": 23,
      "outputs": [
        {
          "output_type": "execute_result",
          "data": {
            "text/plain": [
              "(4000, 12)"
            ]
          },
          "metadata": {},
          "execution_count": 23
        }
      ]
    },
    {
      "cell_type": "markdown",
      "source": [
        "# **HEAT MAP TO UNDERATAND CORRELATION**"
      ],
      "metadata": {
        "id": "qg0H6pLH5EGF"
      }
    },
    {
      "cell_type": "code",
      "source": [
        "import pandas as pd\n",
        "import seaborn as sns\n",
        "import matplotlib.pyplot as plt\n",
        "\n",
        "# Assuming 'df' is your DataFrame and 'target_column' is the name of your target column\n",
        "feature_columns = train_df.columns.drop('diagnosis')  # Select all columns except the target\n",
        "correlation_matrix = train_df[feature_columns].corr()  # Calculate correlation matrix for feature columns only\n",
        "plt.figure(figsize=(10, 8))\n",
        "sns.heatmap(correlation_matrix, annot=True, cmap='coolwarm')\n",
        "plt.show()"
      ],
      "metadata": {
        "colab": {
          "base_uri": "https://localhost:8080/",
          "height": 743
        },
        "id": "tlIVsDH8tf_Y",
        "outputId": "79bf5f49-ff08-4051-8fc9-3cd8c2faa187"
      },
      "execution_count": 25,
      "outputs": [
        {
          "output_type": "display_data",
          "data": {
            "text/plain": [
              "<Figure size 1000x800 with 2 Axes>"
            ],
            "image/png": "[encoded data removed]"
          },
          "metadata": {}
        }
      ]
    },
    {
      "cell_type": "markdown",
      "source": [
        "# **FEATURE-1 PROPERTIES**"
      ],
      "metadata": {
        "id": "ak86DzXQuQeV"
      }
    },
    {
      "cell_type": "code",
      "source": [
        "train_df['feature_1'].describe()\n",
        "train_df['feature_1'].value_counts()"
      ],
      "metadata": {
        "colab": {
          "base_uri": "https://localhost:8080/"
        },
        "id": "AfImjbXkuJiF",
        "outputId": "4d2c6cda-4f99-43ee-fa16-a9040c857c9b"
      },
      "execution_count": 26,
      "outputs": [
        {
          "output_type": "execute_result",
          "data": {
            "text/plain": [
              "feature_1\n",
              "0.374540    1\n",
              "0.848873    1\n",
              "0.695157    1\n",
              "0.677338    1\n",
              "0.884397    1\n",
              "           ..\n",
              "0.322355    1\n",
              "0.669949    1\n",
              "0.290880    1\n",
              "0.394854    1\n",
              "0.533038    1\n",
              "Name: count, Length: 4000, dtype: int64"
            ]
          },
          "metadata": {},
          "execution_count": 26
        }
      ]
    },
    {
      "cell_type": "markdown",
      "source": [
        "# MIN AND MAX VALUES"
      ],
      "metadata": {
        "id": "oPVYBVEZ5JNS"
      }
    },
    {
      "cell_type": "code",
      "source": [
        "# Assuming 'df' is your DataFrame and 'feature_column' is the name of your feature column\n",
        "max_value = train_df['feature_1'].max()\n",
        "min_value = train_df['feature_1'].min()\n",
        "\n",
        "print(\"Maximum value:\", max_value)\n",
        "print(\"Minimum value:\", min_value)"
      ],
      "metadata": {
        "colab": {
          "base_uri": "https://localhost:8080/"
        },
        "id": "p6ezaMksucHU",
        "outputId": "b4b69491-ed2e-4316-e453-0d4657527559"
      },
      "execution_count": 27,
      "outputs": [
        {
          "output_type": "stream",
          "name": "stdout",
          "text": [
            "Maximum value: 0.9998051441338016\n",
            "Minimum value: 0.0001251387565754\n"
          ]
        }
      ]
    },
    {
      "cell_type": "markdown",
      "source": [
        "# FINDING MISSING VALS"
      ],
      "metadata": {
        "id": "veEzgqHO5Mu0"
      }
    },
    {
      "cell_type": "code",
      "source": [
        "missingVals_feature_1 = train_df['feature_1'].isna().sum()\n",
        "missingVals_feature_1"
      ],
      "metadata": {
        "colab": {
          "base_uri": "https://localhost:8080/"
        },
        "id": "aIoMiigmujRP",
        "outputId": "31c178d2-a8b2-4806-eaf6-010b594d42c9"
      },
      "execution_count": 28,
      "outputs": [
        {
          "output_type": "execute_result",
          "data": {
            "text/plain": [
              "0"
            ]
          },
          "metadata": {},
          "execution_count": 28
        }
      ]
    },
    {
      "cell_type": "markdown",
      "source": [
        "# **THE STANDARD DEVIATION TO KNOW THE SPREAD**"
      ],
      "metadata": {
        "id": "OAoFdNAc5Qki"
      }
    },
    {
      "cell_type": "code",
      "source": [
        "feature_1_std = train_df['feature_1'].std()\n",
        "print(feature_1_std)"
      ],
      "metadata": {
        "colab": {
          "base_uri": "https://localhost:8080/"
        },
        "id": "XSeYEHd0upK_",
        "outputId": "5bbb07eb-2735-4f2b-a437-7bb14ca3bdc3"
      },
      "execution_count": 29,
      "outputs": [
        {
          "output_type": "stream",
          "name": "stdout",
          "text": [
            "0.28895268668778645\n"
          ]
        }
      ]
    },
    {
      "cell_type": "markdown",
      "source": [
        "# **FINDING THE RANGE TO ANALYZE THE SCALE**"
      ],
      "metadata": {
        "id": "4ZZ6Yrm65eUK"
      }
    },
    {
      "cell_type": "code",
      "source": [
        "feature_1_range = test_df['feature_1'].max() - test_df['feature_1'].min()\n",
        "print(feature_1_range)"
      ],
      "metadata": {
        "colab": {
          "base_uri": "https://localhost:8080/"
        },
        "id": "KT9IvEqnus7V",
        "outputId": "0a535ce3-0e30-4438-c7e3-2f82251bbe18"
      },
      "execution_count": 30,
      "outputs": [
        {
          "output_type": "stream",
          "name": "stdout",
          "text": [
            "0.9948713586871545\n"
          ]
        }
      ]
    },
    {
      "cell_type": "markdown",
      "source": [
        "# **FINDING OUTLIERS**"
      ],
      "metadata": {
        "id": "2kv90yqJ5lhe"
      }
    },
    {
      "cell_type": "code",
      "source": [
        "q1 = test_df['feature_1'].quantile(0.25) # 25th percentile\n",
        "q3 = test_df['feature_1'].quantile(0.75) #75th percentile\n",
        "IQR_feature_1 = q3-q1 #interquartile range\n",
        "k = IQR_feature_1*1.5\n",
        "outliers_feature_1 = test_df[(test_df['feature_1']< q1-k )| (test_df['feature_1']>q3+k)]\n",
        "print(\"No. of outliers:\",len(outliers_feature_1))\n",
        "#print(outliers_feature_1)\n",
        "print(\"IQR:\",IQR_feature_1)"
      ],
      "metadata": {
        "colab": {
          "base_uri": "https://localhost:8080/"
        },
        "id": "J6_Vwyiqus4I",
        "outputId": "dfa315c2-2a95-4cba-9db4-2a12a611c273"
      },
      "execution_count": 31,
      "outputs": [
        {
          "output_type": "stream",
          "name": "stdout",
          "text": [
            "No. of outliers: 0\n",
            "IQR: 0.49260436044845873\n"
          ]
        }
      ]
    },
    {
      "cell_type": "markdown",
      "source": [
        "# **CALCULATING THE CORRELATION **"
      ],
      "metadata": {
        "id": "sjz15zuJ5uAC"
      }
    },
    {
      "cell_type": "code",
      "source": [
        "from scipy.stats import pointbiserialr\n",
        "\n",
        "# Assuming 'df' is your DataFrame, 'numerical_feature' is the name of your numerical column,\n",
        "# and 'binary_target' is the name of your binary target column\n",
        "correlation, p_value = pointbiserialr(train_df['feature_1'], train_df['diagnosis'])\n",
        "\n",
        "print(\"Point-Biserial Correlation Coefficient:\", correlation)\n",
        "print(\"P-value:\", p_value)"
      ],
      "metadata": {
        "colab": {
          "base_uri": "https://localhost:8080/"
        },
        "id": "damlPrpLvD2h",
        "outputId": "7a619e75-6a0b-4824-850c-f80edad2d2a5"
      },
      "execution_count": 32,
      "outputs": [
        {
          "output_type": "stream",
          "name": "stdout",
          "text": [
            "Point-Biserial Correlation Coefficient: -0.015398399566367148\n",
            "P-value: 0.330238478329457\n"
          ]
        }
      ]
    },
    {
      "cell_type": "markdown",
      "source": [
        "# **FEATURE-2 PROPERTIES**"
      ],
      "metadata": {
        "id": "RL5KfN0PvH7E"
      }
    },
    {
      "cell_type": "code",
      "source": [
        "train_df['feature_2'].describe()\n",
        "train_df['feature_2'].value_counts()"
      ],
      "metadata": {
        "colab": {
          "base_uri": "https://localhost:8080/"
        },
        "id": "rSgN2dlcvK7o",
        "outputId": "1601eea9-3c34-40cd-9444-acc268581c20"
      },
      "execution_count": 33,
      "outputs": [
        {
          "output_type": "execute_result",
          "data": {
            "text/plain": [
              "feature_2\n",
              "0.950714    1\n",
              "0.010393    1\n",
              "0.180734    1\n",
              "0.521680    1\n",
              "0.864350    1\n",
              "           ..\n",
              "0.652015    1\n",
              "0.257798    1\n",
              "0.715451    1\n",
              "0.254818    1\n",
              "0.399323    1\n",
              "Name: count, Length: 4000, dtype: int64"
            ]
          },
          "metadata": {},
          "execution_count": 33
        }
      ]
    },
    {
      "cell_type": "code",
      "source": [
        "max_value = train_df['feature_2'].max()\n",
        "min_value = train_df['feature_2'].min()\n",
        "\n",
        "print(\"Maximum value:\", max_value)\n",
        "print(\"Minimum value:\", min_value)"
      ],
      "metadata": {
        "colab": {
          "base_uri": "https://localhost:8080/"
        },
        "id": "GDcwuo7XvTRd",
        "outputId": "d1165205-5f19-41d3-cd0e-d390a88e0733"
      },
      "execution_count": 34,
      "outputs": [
        {
          "output_type": "stream",
          "name": "stdout",
          "text": [
            "Maximum value: 0.9997893718125952\n",
            "Minimum value: 1.6736257934746313e-05\n"
          ]
        }
      ]
    },
    {
      "cell_type": "code",
      "source": [
        "missingVals_feature_2 = train_df['feature_2'].isna().sum()\n",
        "missingVals_feature_2"
      ],
      "metadata": {
        "colab": {
          "base_uri": "https://localhost:8080/"
        },
        "id": "Qh34X4iuvX2B",
        "outputId": "4ef8eaf8-c1ff-485b-dfe4-316622222946"
      },
      "execution_count": 35,
      "outputs": [
        {
          "output_type": "execute_result",
          "data": {
            "text/plain": [
              "0"
            ]
          },
          "metadata": {},
          "execution_count": 35
        }
      ]
    },
    {
      "cell_type": "code",
      "source": [
        "feature_2_std = train_df['feature_2'].std()\n",
        "print(feature_2_std)"
      ],
      "metadata": {
        "colab": {
          "base_uri": "https://localhost:8080/"
        },
        "id": "l2WIOqSJvcTY",
        "outputId": "a234e446-83ef-4cbf-a3f6-4b30eb02191a"
      },
      "execution_count": 36,
      "outputs": [
        {
          "output_type": "stream",
          "name": "stdout",
          "text": [
            "0.2914940721266054\n"
          ]
        }
      ]
    },
    {
      "cell_type": "code",
      "source": [
        "feature_2_range =train_df['feature_2'].max() - train_df['feature_2'].min()\n",
        "print(feature_2_range)"
      ],
      "metadata": {
        "colab": {
          "base_uri": "https://localhost:8080/"
        },
        "id": "mCQuuPQNvwVL",
        "outputId": "6d4282fb-5848-4f41-e075-5471bd7b544f"
      },
      "execution_count": 38,
      "outputs": [
        {
          "output_type": "stream",
          "name": "stdout",
          "text": [
            "0.9997726355546604\n"
          ]
        }
      ]
    },
    {
      "cell_type": "code",
      "source": [
        "q1 = train_df['feature_2'].quantile(0.25) # 25th percentile\n",
        "q3 = train_df['feature_2'].quantile(0.75) #75th percentile\n",
        "IQR_feature_2 = q3-q1 #interquartile range\n",
        "k = IQR_feature_2*1.5\n",
        "outliers_feature_2 =train_df[(train_df['feature_2']< q1-k )| (train_df['feature_2']>q3+k)]\n",
        "print(\"No. of outliers:\",len(outliers_feature_2))\n",
        "#print(outliers_feature_2)\n",
        "print(\"IQR:\",IQR_feature_2)"
      ],
      "metadata": {
        "colab": {
          "base_uri": "https://localhost:8080/"
        },
        "id": "ArVUp2bDv9YL",
        "outputId": "d80c2c97-81f8-44b8-b6be-07c30ec53e66"
      },
      "execution_count": 40,
      "outputs": [
        {
          "output_type": "stream",
          "name": "stdout",
          "text": [
            "No. of outliers: 0\n",
            "IQR: 0.5108539525812681\n"
          ]
        }
      ]
    },
    {
      "cell_type": "code",
      "source": [
        "from scipy.stats import pointbiserialr\n",
        "\n",
        "# Assuming 'df' is your DataFrame, 'numerical_feature' is the name of your numerical column,\n",
        "# and 'binary_target' is the name of your binary target column\n",
        "correlation, p_value = pointbiserialr(train_df['feature_2'], train_df['diagnosis'])\n",
        "\n",
        "print(\"Point-Biserial Correlation Coefficient:\", correlation)\n",
        "print(\"P-value:\", p_value)"
      ],
      "metadata": {
        "colab": {
          "base_uri": "https://localhost:8080/"
        },
        "id": "oXCqWFTzwU-A",
        "outputId": "f271b9cc-549a-4e28-bebf-7ec226c5c47a"
      },
      "execution_count": 41,
      "outputs": [
        {
          "output_type": "stream",
          "name": "stdout",
          "text": [
            "Point-Biserial Correlation Coefficient: 0.02316200873086975\n",
            "P-value: 0.1430211605767439\n"
          ]
        }
      ]
    },
    {
      "cell_type": "markdown",
      "source": [
        "# **FEATURE-3 PROPERTIES**"
      ],
      "metadata": {
        "id": "N89_o0J2waYP"
      }
    },
    {
      "cell_type": "code",
      "source": [
        "train_df['feature_3'].describe()\n",
        "train_df['feature_3'].value_counts()"
      ],
      "metadata": {
        "colab": {
          "base_uri": "https://localhost:8080/"
        },
        "id": "D7UalT_ywdx2",
        "outputId": "3a8dccef-722c-4280-869a-688e48f4e23d"
      },
      "execution_count": 42,
      "outputs": [
        {
          "output_type": "execute_result",
          "data": {
            "text/plain": [
              "feature_3\n",
              "0.731994    1\n",
              "0.869276    1\n",
              "0.932827    1\n",
              "0.111642    1\n",
              "0.247460    1\n",
              "           ..\n",
              "0.708152    1\n",
              "0.245097    1\n",
              "0.805929    1\n",
              "0.156834    1\n",
              "0.559639    1\n",
              "Name: count, Length: 4000, dtype: int64"
            ]
          },
          "metadata": {},
          "execution_count": 42
        }
      ]
    },
    {
      "cell_type": "code",
      "source": [
        "max_value = train_df['feature_3'].max()\n",
        "min_value = train_df['feature_3'].min()\n",
        "\n",
        "print(\"Maximum value:\", max_value)\n",
        "print(\"Minimum value:\", min_value)"
      ],
      "metadata": {
        "colab": {
          "base_uri": "https://localhost:8080/"
        },
        "id": "HvlpkpDXwjqw",
        "outputId": "6db817d9-86e5-4066-cee4-e8d9da65a927"
      },
      "execution_count": 44,
      "outputs": [
        {
          "output_type": "stream",
          "name": "stdout",
          "text": [
            "Maximum value: 0.9999569543687702\n",
            "Minimum value: 1.1634755366141114e-05\n"
          ]
        }
      ]
    },
    {
      "cell_type": "code",
      "source": [
        "missingVals_feature_3 = train_df['feature_3'].isna().sum()\n",
        "missingVals_feature_3\n"
      ],
      "metadata": {
        "colab": {
          "base_uri": "https://localhost:8080/"
        },
        "id": "Dj-DIyi-wrRi",
        "outputId": "985ff96a-bd72-48e6-ba44-d4145bba52f5"
      },
      "execution_count": 45,
      "outputs": [
        {
          "output_type": "execute_result",
          "data": {
            "text/plain": [
              "0"
            ]
          },
          "metadata": {},
          "execution_count": 45
        }
      ]
    },
    {
      "cell_type": "code",
      "source": [
        "feature_3_std = train_df['feature_3'].std()\n",
        "print(feature_3_std)"
      ],
      "metadata": {
        "colab": {
          "base_uri": "https://localhost:8080/"
        },
        "id": "SoWfmQI6wvH5",
        "outputId": "804642b8-03f7-4db6-8e19-c87864c0d4d7"
      },
      "execution_count": 46,
      "outputs": [
        {
          "output_type": "stream",
          "name": "stdout",
          "text": [
            "0.28639042615050925\n"
          ]
        }
      ]
    },
    {
      "cell_type": "code",
      "source": [
        "feature_3_range = train_df['feature_3'].max() - train_df['feature_3'].min()\n",
        "print(feature_3_range)"
      ],
      "metadata": {
        "colab": {
          "base_uri": "https://localhost:8080/"
        },
        "id": "ZYRXedxTwy1n",
        "outputId": "d08e807b-8053-4dd2-f83d-0ae184d9cf6d"
      },
      "execution_count": 47,
      "outputs": [
        {
          "output_type": "stream",
          "name": "stdout",
          "text": [
            "0.999945319613404\n"
          ]
        }
      ]
    },
    {
      "cell_type": "code",
      "source": [
        "q1 = train_df['feature_3'].quantile(0.25) # 25th percentile\n",
        "q3 = train_df['feature_3'].quantile(0.75) #75th percentile\n",
        "IQR_feature_3 = q3-q1 #interquartile range\n",
        "k = IQR_feature_3*1.5\n",
        "outliers_feature_3 = train_df[(train_df['feature_3']< q1-k )| (train_df['feature_3']>q3+k)]\n",
        "print(\"No. of outliers:\",len(outliers_feature_3))\n",
        "#print(outliers_feature_3)\n",
        "print(\"IQR:\",IQR_feature_3)"
      ],
      "metadata": {
        "colab": {
          "base_uri": "https://localhost:8080/"
        },
        "id": "wVYCcw0zw423",
        "outputId": "4656291e-fbbf-406d-c1e7-fabc03267918"
      },
      "execution_count": 48,
      "outputs": [
        {
          "output_type": "stream",
          "name": "stdout",
          "text": [
            "No. of outliers: 0\n",
            "IQR: 0.4968337680768712\n"
          ]
        }
      ]
    },
    {
      "cell_type": "code",
      "source": [
        "from scipy.stats import pointbiserialr\n",
        "\n",
        "# Assuming 'df' is your DataFrame, 'numerical_feature' is the name of your numerical column,\n",
        "# and 'binary_target' is the name of your binary target column\n",
        "correlation, p_value = pointbiserialr(train_df['feature_3'], train_df['diagnosis'])\n",
        "\n",
        "print(\"Point-Biserial Correlation Coefficient:\", correlation)\n",
        "print(\"P-value:\", p_value)"
      ],
      "metadata": {
        "colab": {
          "base_uri": "https://localhost:8080/"
        },
        "id": "BfkkSAjKxBFj",
        "outputId": "b42d35b2-1b6b-4bdf-8cbe-ee4685e2dcce"
      },
      "execution_count": 49,
      "outputs": [
        {
          "output_type": "stream",
          "name": "stdout",
          "text": [
            "Point-Biserial Correlation Coefficient: -0.010424346701996191\n",
            "P-value: 0.5098280743142747\n"
          ]
        }
      ]
    },
    {
      "cell_type": "markdown",
      "source": [
        "# **FEATURE-4 PROPERTIES**"
      ],
      "metadata": {
        "id": "u2LNgPFfxJb6"
      }
    },
    {
      "cell_type": "code",
      "source": [
        "train_df['feature_4'].describe()\n",
        "train_df['feature_4'].value_counts()"
      ],
      "metadata": {
        "colab": {
          "base_uri": "https://localhost:8080/"
        },
        "id": "bqNAFjqhxMNg",
        "outputId": "706ddb24-5d50-495a-c9da-3c45ccfb50de"
      },
      "execution_count": 51,
      "outputs": [
        {
          "output_type": "execute_result",
          "data": {
            "text/plain": [
              "feature_4\n",
              "0.598658    1\n",
              "0.120138    1\n",
              "0.529035    1\n",
              "0.795865    1\n",
              "0.837985    1\n",
              "           ..\n",
              "0.778675    1\n",
              "0.714722    1\n",
              "0.259916    1\n",
              "0.692577    1\n",
              "0.241227    1\n",
              "Name: count, Length: 4000, dtype: int64"
            ]
          },
          "metadata": {},
          "execution_count": 51
        }
      ]
    },
    {
      "cell_type": "code",
      "source": [
        "max_value = train_df['feature_4'].max()\n",
        "min_value = train_df['feature_4'].min()\n",
        "\n",
        "print(\"Maximum value:\", max_value)\n",
        "print(\"Minimum value:\", min_value)"
      ],
      "metadata": {
        "colab": {
          "base_uri": "https://localhost:8080/"
        },
        "id": "tYPzi4xTxVBs",
        "outputId": "d1d32b85-0811-489d-8509-395f54323031"
      },
      "execution_count": 52,
      "outputs": [
        {
          "output_type": "stream",
          "name": "stdout",
          "text": [
            "Maximum value: 0.9999009770092316\n",
            "Minimum value: 0.0001577445780567\n"
          ]
        }
      ]
    },
    {
      "cell_type": "code",
      "source": [
        "missingVals_feature_4 = train_df['feature_4'].isna().sum()\n",
        "missingVals_feature_4"
      ],
      "metadata": {
        "colab": {
          "base_uri": "https://localhost:8080/"
        },
        "id": "4sy3cMZlxZWr",
        "outputId": "0b1fd62d-096c-4b79-be87-85d4e41b6233"
      },
      "execution_count": 53,
      "outputs": [
        {
          "output_type": "execute_result",
          "data": {
            "text/plain": [
              "0"
            ]
          },
          "metadata": {},
          "execution_count": 53
        }
      ]
    },
    {
      "cell_type": "code",
      "source": [
        "feature_4_std = train_df['feature_4'].std()\n",
        "print(feature_4_std)"
      ],
      "metadata": {
        "colab": {
          "base_uri": "https://localhost:8080/"
        },
        "id": "xOSaHVXOxb5_",
        "outputId": "0dacc696-e5bd-4e4b-ad3e-8be57179a6d9"
      },
      "execution_count": 54,
      "outputs": [
        {
          "output_type": "stream",
          "name": "stdout",
          "text": [
            "0.28848627588976805\n"
          ]
        }
      ]
    },
    {
      "cell_type": "code",
      "source": [
        "feature_4_range = train_df['feature_4'].max() - train_df['feature_4'].min()\n",
        "print(feature_4_range)"
      ],
      "metadata": {
        "colab": {
          "base_uri": "https://localhost:8080/"
        },
        "id": "Ghxeb2YcxfY8",
        "outputId": "f0907aa5-717d-48c5-eb7c-68027edea198"
      },
      "execution_count": 55,
      "outputs": [
        {
          "output_type": "stream",
          "name": "stdout",
          "text": [
            "0.9997432324311749\n"
          ]
        }
      ]
    },
    {
      "cell_type": "code",
      "source": [
        "q1 = train_df['feature_4'].quantile(0.25) # 25th percentile\n",
        "q3 = train_df['feature_4'].quantile(0.75) #75th percentile\n",
        "IQR_feature_4 = q3-q1 #interquartile range\n",
        "k = IQR_feature_4*1.5\n",
        "outliers_feature_4 = train_df[(train_df['feature_4']< q1-k )| (train_df['feature_4']>q3+k)]\n",
        "print(\"No. of outliers:\",len(outliers_feature_4))\n",
        "#print(outliers_feature_4)\n",
        "print(\"IQR:\",IQR_feature_4)"
      ],
      "metadata": {
        "colab": {
          "base_uri": "https://localhost:8080/"
        },
        "id": "40j-JRUrxin-",
        "outputId": "89c8c8a0-cf5b-4727-e708-7839f4515a2d"
      },
      "execution_count": 56,
      "outputs": [
        {
          "output_type": "stream",
          "name": "stdout",
          "text": [
            "No. of outliers: 0\n",
            "IQR: 0.4941736134020215\n"
          ]
        }
      ]
    },
    {
      "cell_type": "code",
      "source": [
        "from scipy.stats import pointbiserialr\n",
        "\n",
        "# Assuming 'df' is your DataFrame, 'numerical_feature' is the name of your numerical column,\n",
        "# and 'binary_target' is the name of your binary target column\n",
        "correlation, p_value = pointbiserialr(train_df['feature_4'], train_df['diagnosis'])\n",
        "\n",
        "print(\"Point-Biserial Correlation Coefficient:\", correlation)\n",
        "print(\"P-value:\", p_value)"
      ],
      "metadata": {
        "colab": {
          "base_uri": "https://localhost:8080/"
        },
        "id": "l6kfgjRJxpP2",
        "outputId": "93fdccd8-a4e2-4870-885a-03dbe658eb31"
      },
      "execution_count": 57,
      "outputs": [
        {
          "output_type": "stream",
          "name": "stdout",
          "text": [
            "Point-Biserial Correlation Coefficient: 0.010349169918851956\n",
            "P-value: 0.5128850991050554\n"
          ]
        }
      ]
    },
    {
      "cell_type": "markdown",
      "source": [
        "# **FEATURE_5 PROPERTIES**"
      ],
      "metadata": {
        "id": "4UIh5EmWxtvx"
      }
    },
    {
      "cell_type": "code",
      "source": [
        "train_df['feature_5'].describe()\n",
        "train_df['feature_5'].value_counts()"
      ],
      "metadata": {
        "colab": {
          "base_uri": "https://localhost:8080/"
        },
        "id": "DZhw9YxgxwsZ",
        "outputId": "bc0ce853-721a-4fc5-a394-aa7047121a93"
      },
      "execution_count": 58,
      "outputs": [
        {
          "output_type": "execute_result",
          "data": {
            "text/plain": [
              "feature_5\n",
              "0.156019    1\n",
              "0.721218    1\n",
              "0.276256    1\n",
              "0.564376    1\n",
              "0.169281    1\n",
              "           ..\n",
              "0.563924    1\n",
              "0.521395    1\n",
              "0.300621    1\n",
              "0.093189    1\n",
              "0.427958    1\n",
              "Name: count, Length: 4000, dtype: int64"
            ]
          },
          "metadata": {},
          "execution_count": 58
        }
      ]
    },
    {
      "cell_type": "code",
      "source": [
        "# Assuming 'df' is your DataFrame and 'feature_column' is the name of your feature column\n",
        "max_value = train_df['feature_5'].max()\n",
        "min_value = train_df['feature_5'].min()\n",
        "\n",
        "print(\"Maximum value:\", max_value)\n",
        "print(\"Minimum value:\", min_value)"
      ],
      "metadata": {
        "colab": {
          "base_uri": "https://localhost:8080/"
        },
        "id": "GPk6V5yux14r",
        "outputId": "a3c1a74a-7362-47f9-910c-dc03dca44997"
      },
      "execution_count": 59,
      "outputs": [
        {
          "output_type": "stream",
          "name": "stdout",
          "text": [
            "Maximum value: 0.99924058022444\n",
            "Minimum value: 0.0001346930044853\n"
          ]
        }
      ]
    },
    {
      "cell_type": "code",
      "source": [
        "missingVals_feature_5 = train_df['feature_5'].isna().sum()\n",
        "missingVals_feature_5"
      ],
      "metadata": {
        "colab": {
          "base_uri": "https://localhost:8080/"
        },
        "id": "jk-IeVTBx9NF",
        "outputId": "92610005-b05f-424f-a5c7-a13c7e089edf"
      },
      "execution_count": 60,
      "outputs": [
        {
          "output_type": "execute_result",
          "data": {
            "text/plain": [
              "0"
            ]
          },
          "metadata": {},
          "execution_count": 60
        }
      ]
    },
    {
      "cell_type": "code",
      "source": [
        "feature_5_std = train_df['feature_5'].std()\n",
        "print(feature_5_std)"
      ],
      "metadata": {
        "colab": {
          "base_uri": "https://localhost:8080/"
        },
        "id": "tVJjWG_FyAOK",
        "outputId": "5d29494c-7002-4da7-e8ec-335d7944acee"
      },
      "execution_count": 61,
      "outputs": [
        {
          "output_type": "stream",
          "name": "stdout",
          "text": [
            "0.28758469327652314\n"
          ]
        }
      ]
    },
    {
      "cell_type": "code",
      "source": [
        "feature_5_range = train_df['feature_5'].max() - train_df['feature_5'].min()\n",
        "print(feature_5_range)"
      ],
      "metadata": {
        "colab": {
          "base_uri": "https://localhost:8080/"
        },
        "id": "whyZ2rokyDIt",
        "outputId": "fc38084a-8a8d-4940-8eda-0a501022c9ba"
      },
      "execution_count": 63,
      "outputs": [
        {
          "output_type": "stream",
          "name": "stdout",
          "text": [
            "0.9991058872199546\n"
          ]
        }
      ]
    },
    {
      "cell_type": "code",
      "source": [
        "q1 = train_df['feature_5'].quantile(0.25) # 25th percentile\n",
        "q3 = train_df['feature_5'].quantile(0.75) #75th percentile\n",
        "IQR_feature_5 = q3-q1 #interquartile range\n",
        "k = IQR_feature_5*1.5\n",
        "outliers_feature_5 = train_df[(train_df['feature_5']< q1-k )| (train_df['feature_5']>q3+k)]\n",
        "print(\"No. of outliers:\",len(outliers_feature_5))\n",
        "#print(outliers_feature_5)\n",
        "print(\"IQR:\",IQR_feature_5)"
      ],
      "metadata": {
        "colab": {
          "base_uri": "https://localhost:8080/"
        },
        "id": "ubqAaVsyyIKU",
        "outputId": "c9fa5073-3ac5-4a94-e305-ce4d8dd82e28"
      },
      "execution_count": 64,
      "outputs": [
        {
          "output_type": "stream",
          "name": "stdout",
          "text": [
            "No. of outliers: 0\n",
            "IQR: 0.4976155585804239\n"
          ]
        }
      ]
    },
    {
      "cell_type": "code",
      "source": [
        "from scipy.stats import pointbiserialr\n",
        "\n",
        "# Assuming 'df' is your DataFrame, 'numerical_feature' is the name of your numerical column,\n",
        "# and 'binary_target' is the name of your binary target column\n",
        "correlation, p_value = pointbiserialr(train_df['feature_5'], train_df['diagnosis'])\n",
        "\n",
        "print(\"Point-Biserial Correlation Coefficient:\", correlation)\n",
        "print(\"P-value:\", p_value)"
      ],
      "metadata": {
        "colab": {
          "base_uri": "https://localhost:8080/"
        },
        "id": "HhHMJ_eHyPm0",
        "outputId": "03c52faf-5375-4f0b-9193-7aae0e9bf41d"
      },
      "execution_count": 65,
      "outputs": [
        {
          "output_type": "stream",
          "name": "stdout",
          "text": [
            "Point-Biserial Correlation Coefficient: 0.005415584745269252\n",
            "P-value: 0.7320445358900214\n"
          ]
        }
      ]
    },
    {
      "cell_type": "markdown",
      "source": [
        "# **FEATURE-6 PROPERTIES**"
      ],
      "metadata": {
        "id": "hybTLedyyViF"
      }
    },
    {
      "cell_type": "code",
      "source": [
        "train_df['feature_6'].describe()\n",
        "train_df['feature_6'].value_counts()"
      ],
      "metadata": {
        "colab": {
          "base_uri": "https://localhost:8080/"
        },
        "id": "mhnEzIX8yY-d",
        "outputId": "9418daa5-8f6d-46f0-d5b4-a78bcbbc17c4"
      },
      "execution_count": 66,
      "outputs": [
        {
          "output_type": "execute_result",
          "data": {
            "text/plain": [
              "feature_6\n",
              "0.155995    1\n",
              "0.416521    1\n",
              "0.935109    1\n",
              "0.795846    1\n",
              "0.198108    1\n",
              "           ..\n",
              "0.402455    1\n",
              "0.683277    1\n",
              "0.661154    1\n",
              "0.937792    1\n",
              "0.622445    1\n",
              "Name: count, Length: 4000, dtype: int64"
            ]
          },
          "metadata": {},
          "execution_count": 66
        }
      ]
    },
    {
      "cell_type": "code",
      "source": [
        "# Assuming 'df' is your DataFrame and 'feature_column' is the name of your feature column\n",
        "max_value = train_df['feature_6'].max()\n",
        "min_value = train_df['feature_6'].min()\n",
        "\n",
        "print(\"Maximum value:\", max_value)\n",
        "print(\"Minimum value:\", min_value)"
      ],
      "metadata": {
        "colab": {
          "base_uri": "https://localhost:8080/"
        },
        "id": "A6WoXr31yeBS",
        "outputId": "d721b336-6a0d-41c9-815a-7903ab64ca11"
      },
      "execution_count": 67,
      "outputs": [
        {
          "output_type": "stream",
          "name": "stdout",
          "text": [
            "Maximum value: 0.999697209659069\n",
            "Minimum value: 4.81238943117468e-05\n"
          ]
        }
      ]
    },
    {
      "cell_type": "code",
      "source": [
        "missingVals_feature_6 = train_df['feature_6'].isna().sum()\n",
        "missingVals_feature_6"
      ],
      "metadata": {
        "colab": {
          "base_uri": "https://localhost:8080/"
        },
        "id": "gmaiFaymyhGu",
        "outputId": "c5b7b441-6a1c-4186-d0ca-0dcb7489ea7a"
      },
      "execution_count": 68,
      "outputs": [
        {
          "output_type": "execute_result",
          "data": {
            "text/plain": [
              "0"
            ]
          },
          "metadata": {},
          "execution_count": 68
        }
      ]
    },
    {
      "cell_type": "code",
      "source": [
        "feature_6_std = train_df['feature_6'].std()\n",
        "print(feature_6_std)"
      ],
      "metadata": {
        "colab": {
          "base_uri": "https://localhost:8080/"
        },
        "id": "IT_A2ydVyjh_",
        "outputId": "3f5f5da5-3970-4034-eaef-b44f1493ea25"
      },
      "execution_count": 69,
      "outputs": [
        {
          "output_type": "stream",
          "name": "stdout",
          "text": [
            "0.2899117772784199\n"
          ]
        }
      ]
    },
    {
      "cell_type": "code",
      "source": [
        "feature_6_range = train_df['feature_6'].max() - train_df['feature_6'].min()\n",
        "print(feature_6_range)"
      ],
      "metadata": {
        "colab": {
          "base_uri": "https://localhost:8080/"
        },
        "id": "iInjBFesynlq",
        "outputId": "001f6c81-c4ae-4368-b5bd-829505a9ebd6"
      },
      "execution_count": 70,
      "outputs": [
        {
          "output_type": "stream",
          "name": "stdout",
          "text": [
            "0.9996490857647573\n"
          ]
        }
      ]
    },
    {
      "cell_type": "code",
      "source": [
        "q1 = train_df['feature_6'].quantile(0.25) # 25th percentile\n",
        "q3 = train_df['feature_6'].quantile(0.75) #75th percentile\n",
        "IQR_feature_6 = q3-q1 #interquartile range\n",
        "k = IQR_feature_6*1.5\n",
        "outliers_feature_6 = train_df[(train_df['feature_6']< q1-k )| (train_df['feature_6']>q3+k)]\n",
        "print(\"No. of outliers:\",len(outliers_feature_6))\n",
        "#print(outliers_feature_6)\n",
        "print(\"IQR:\",IQR_feature_6)"
      ],
      "metadata": {
        "colab": {
          "base_uri": "https://localhost:8080/"
        },
        "id": "-J1oWmeKyqxa",
        "outputId": "e018f579-2fa3-478f-8f56-5dfcc2aa3762"
      },
      "execution_count": 71,
      "outputs": [
        {
          "output_type": "stream",
          "name": "stdout",
          "text": [
            "No. of outliers: 0\n",
            "IQR: 0.5079429839662537\n"
          ]
        }
      ]
    },
    {
      "cell_type": "code",
      "source": [
        "from scipy.stats import pointbiserialr\n",
        "\n",
        "# Assuming 'df' is your DataFrame, 'numerical_feature' is the name of your numerical column,\n",
        "# and 'binary_target' is the name of your binary target column\n",
        "correlation, p_value = pointbiserialr(train_df['feature_6'], train_df['diagnosis'])\n",
        "\n",
        "print(\"Point-Biserial Correlation Coefficient:\", correlation)\n",
        "print(\"P-value:\", p_value)"
      ],
      "metadata": {
        "colab": {
          "base_uri": "https://localhost:8080/"
        },
        "id": "8od_yn-izAkl",
        "outputId": "2dde3678-d467-47fb-c611-9fc4fc567306"
      },
      "execution_count": 72,
      "outputs": [
        {
          "output_type": "stream",
          "name": "stdout",
          "text": [
            "Point-Biserial Correlation Coefficient: 0.0037238957661259097\n",
            "P-value: 0.8138617688971534\n"
          ]
        }
      ]
    },
    {
      "cell_type": "markdown",
      "source": [
        "# **FEATURE-7 PROPERTIES**"
      ],
      "metadata": {
        "id": "ew4mibejzGbo"
      }
    },
    {
      "cell_type": "code",
      "source": [
        "train_df['feature_7'].describe()\n",
        "train_df['feature_7'].value_counts()"
      ],
      "metadata": {
        "colab": {
          "base_uri": "https://localhost:8080/"
        },
        "id": "Y4HQN_xHzEje",
        "outputId": "10ef1a7d-d66f-4893-e7da-af4e318073c0"
      },
      "execution_count": 73,
      "outputs": [
        {
          "output_type": "execute_result",
          "data": {
            "text/plain": [
              "feature_7\n",
              "0.058084    1\n",
              "0.681072    1\n",
              "0.625451    1\n",
              "0.154912    1\n",
              "0.110117    1\n",
              "           ..\n",
              "0.967016    1\n",
              "0.269438    1\n",
              "0.695585    1\n",
              "0.826686    1\n",
              "0.226194    1\n",
              "Name: count, Length: 4000, dtype: int64"
            ]
          },
          "metadata": {},
          "execution_count": 73
        }
      ]
    },
    {
      "cell_type": "code",
      "source": [
        "# Assuming 'df' is your DataFrame and 'feature_column' is the name of your feature column\n",
        "max_value = train_df['feature_7'].max()\n",
        "min_value = train_df['feature_7'].min()\n",
        "\n",
        "print(\"Maximum value:\", max_value)\n",
        "print(\"Minimum value:\", min_value)"
      ],
      "metadata": {
        "colab": {
          "base_uri": "https://localhost:8080/"
        },
        "id": "69EM6em3zN6c",
        "outputId": "62167358-8668-41ea-ab5d-c6dabb28bd83"
      },
      "execution_count": 74,
      "outputs": [
        {
          "output_type": "stream",
          "name": "stdout",
          "text": [
            "Maximum value: 0.9999721473679823\n",
            "Minimum value: 5.536675737993768e-06\n"
          ]
        }
      ]
    },
    {
      "cell_type": "code",
      "source": [
        "missingVals_feature_7 = train_df['feature_7'].isna().sum()\n",
        "missingVals_feature_7"
      ],
      "metadata": {
        "colab": {
          "base_uri": "https://localhost:8080/"
        },
        "id": "36XtLdJ5ziMM",
        "outputId": "1b95c868-a695-4c62-a301-08c3a500e8a3"
      },
      "execution_count": 76,
      "outputs": [
        {
          "output_type": "execute_result",
          "data": {
            "text/plain": [
              "0"
            ]
          },
          "metadata": {},
          "execution_count": 76
        }
      ]
    },
    {
      "cell_type": "code",
      "source": [
        "feature_7_std = train_df['feature_7'].std()\n",
        "print(feature_7_std)"
      ],
      "metadata": {
        "colab": {
          "base_uri": "https://localhost:8080/"
        },
        "id": "c6eY2Zbjzm3O",
        "outputId": "a6d12ba8-d26a-41c3-f29a-bc0be500c955"
      },
      "execution_count": 77,
      "outputs": [
        {
          "output_type": "stream",
          "name": "stdout",
          "text": [
            "0.28711436427623693\n"
          ]
        }
      ]
    },
    {
      "cell_type": "code",
      "source": [
        "feature_7_range = train_df['feature_7'].max() - train_df['feature_7'].min()\n",
        "print(feature_7_range)"
      ],
      "metadata": {
        "colab": {
          "base_uri": "https://localhost:8080/"
        },
        "id": "X9v8B0qEzpj-",
        "outputId": "52e60a2e-1e5e-4505-d4f6-ab72383b19ec"
      },
      "execution_count": 78,
      "outputs": [
        {
          "output_type": "stream",
          "name": "stdout",
          "text": [
            "0.9999666106922444\n"
          ]
        }
      ]
    },
    {
      "cell_type": "code",
      "source": [
        "q1 = train_df['feature_7'].quantile(0.25) # 25th percentile\n",
        "q3 = train_df['feature_7'].quantile(0.75) #75th percentile\n",
        "IQR_feature_7 = q3-q1 #interquartile range\n",
        "k = IQR_feature_7*1.5\n",
        "outliers_feature_7 = train_df[(train_df['feature_7']< q1-k )| (train_df['feature_7']>q3+k)]\n",
        "print(\"No. of outliers:\",len(outliers_feature_7))\n",
        "#print(outliers_feature_7)\n",
        "print(\"IQR:\",IQR_feature_7)"
      ],
      "metadata": {
        "colab": {
          "base_uri": "https://localhost:8080/"
        },
        "id": "XT0qnLfPzvJL",
        "outputId": "d0fa753e-00da-4e8b-8d2a-2457db2bf8ae"
      },
      "execution_count": 79,
      "outputs": [
        {
          "output_type": "stream",
          "name": "stdout",
          "text": [
            "No. of outliers: 0\n",
            "IQR: 0.48940460488847\n"
          ]
        }
      ]
    },
    {
      "cell_type": "code",
      "source": [
        "from scipy.stats import pointbiserialr\n",
        "\n",
        "# Assuming 'df' is your DataFrame, 'numerical_feature' is the name of your numerical column,\n",
        "# and 'binary_target' is the name of your binary target column\n",
        "correlation, p_value = pointbiserialr(train_df['feature_7'], train_df['diagnosis'])\n",
        "\n",
        "print(\"Point-Biserial Correlation Coefficient:\", correlation)\n",
        "print(\"P-value:\", p_value)"
      ],
      "metadata": {
        "colab": {
          "base_uri": "https://localhost:8080/"
        },
        "id": "wUgCgCDhz2ne",
        "outputId": "436b3683-0c1b-4e8d-8438-62055a0ca5b5"
      },
      "execution_count": 80,
      "outputs": [
        {
          "output_type": "stream",
          "name": "stdout",
          "text": [
            "Point-Biserial Correlation Coefficient: -0.011980123611625367\n",
            "P-value: 0.4487623951062253\n"
          ]
        }
      ]
    },
    {
      "cell_type": "markdown",
      "source": [
        "# **FEATURE-8 PROPERTIES**"
      ],
      "metadata": {
        "id": "lDLuaukZz68b"
      }
    },
    {
      "cell_type": "code",
      "source": [
        "train_df['feature_8'].describe()\n",
        "train_df['feature_8'].value_counts()"
      ],
      "metadata": {
        "colab": {
          "base_uri": "https://localhost:8080/"
        },
        "id": "iOup25Ebz-ck",
        "outputId": "338c162c-0697-4083-f65e-dca1b5b55238"
      },
      "execution_count": 81,
      "outputs": [
        {
          "output_type": "execute_result",
          "data": {
            "text/plain": [
              "feature_8\n",
              "0.866176    1\n",
              "0.628190    1\n",
              "0.483690    1\n",
              "0.538357    1\n",
              "0.857597    1\n",
              "           ..\n",
              "0.611331    1\n",
              "0.598723    1\n",
              "0.704100    1\n",
              "0.857506    1\n",
              "0.748995    1\n",
              "Name: count, Length: 4000, dtype: int64"
            ]
          },
          "metadata": {},
          "execution_count": 81
        }
      ]
    },
    {
      "cell_type": "code",
      "source": [
        "# Assuming 'df' is your DataFrame and 'feature_column' is the name of your feature column\n",
        "max_value = train_df['feature_8'].max()\n",
        "min_value = train_df['feature_8'].min()\n",
        "\n",
        "print(\"Maximum value:\", max_value)\n",
        "print(\"Minimum value:\", min_value)"
      ],
      "metadata": {
        "colab": {
          "base_uri": "https://localhost:8080/"
        },
        "id": "rD1QabKO0DOm",
        "outputId": "2c8b6998-fcc3-44da-8fa1-cf14bce2bfe4"
      },
      "execution_count": 82,
      "outputs": [
        {
          "output_type": "stream",
          "name": "stdout",
          "text": [
            "Maximum value: 0.9998237501968622\n",
            "Minimum value: 5.282693229680113e-05\n"
          ]
        }
      ]
    },
    {
      "cell_type": "code",
      "source": [
        "missingVals_feature_8 = train_df['feature_8'].isna().sum()\n",
        "missingVals_feature_8"
      ],
      "metadata": {
        "colab": {
          "base_uri": "https://localhost:8080/"
        },
        "id": "HD_SreSa0Ib5",
        "outputId": "8b40f63d-1296-4965-b611-4f9131266488"
      },
      "execution_count": 83,
      "outputs": [
        {
          "output_type": "execute_result",
          "data": {
            "text/plain": [
              "0"
            ]
          },
          "metadata": {},
          "execution_count": 83
        }
      ]
    },
    {
      "cell_type": "code",
      "source": [
        "feature_8_std = train_df['feature_8'].std()\n",
        "print(feature_8_std)"
      ],
      "metadata": {
        "colab": {
          "base_uri": "https://localhost:8080/"
        },
        "id": "-eLW1M6f0LWc",
        "outputId": "63637072-b18b-4420-c0f7-9aad9f3ebe7c"
      },
      "execution_count": 84,
      "outputs": [
        {
          "output_type": "stream",
          "name": "stdout",
          "text": [
            "0.2887565136207407\n"
          ]
        }
      ]
    },
    {
      "cell_type": "code",
      "source": [
        "feature_8_range = train_df['feature_8'].max() - train_df['feature_8'].min()\n",
        "print(feature_8_range)"
      ],
      "metadata": {
        "colab": {
          "base_uri": "https://localhost:8080/"
        },
        "id": "puPxKsQT0OJy",
        "outputId": "5cb2a3e6-c118-419d-e290-3594735ff135"
      },
      "execution_count": 85,
      "outputs": [
        {
          "output_type": "stream",
          "name": "stdout",
          "text": [
            "0.9997709232645654\n"
          ]
        }
      ]
    },
    {
      "cell_type": "code",
      "source": [
        "q1 = train_df['feature_8'].quantile(0.25) # 25th percentile\n",
        "q3 = train_df['feature_8'].quantile(0.75) #75th percentile\n",
        "IQR_feature_8 = q3-q1 #interquartile range\n",
        "k = IQR_feature_8*1.5\n",
        "outliers_feature_8 = train_df[(train_df['feature_8']< q1-k )| (train_df['feature_8']>q3+k)]\n",
        "print(\"No. of outliers:\",len(outliers_feature_8))\n",
        "#print(outliers_feature_8)\n",
        "print(\"IQR:\",IQR_feature_8)"
      ],
      "metadata": {
        "colab": {
          "base_uri": "https://localhost:8080/"
        },
        "id": "TX5B0Elg0Sft",
        "outputId": "8ebc96c2-0449-4944-f6c6-31f0e2dae722"
      },
      "execution_count": 86,
      "outputs": [
        {
          "output_type": "stream",
          "name": "stdout",
          "text": [
            "No. of outliers: 0\n",
            "IQR: 0.5006228493386976\n"
          ]
        }
      ]
    },
    {
      "cell_type": "code",
      "source": [
        "from scipy.stats import pointbiserialr\n",
        "\n",
        "# Assuming 'df' is your DataFrame, 'numerical_feature' is the name of your numerical column,\n",
        "# and 'binary_target' is the name of your binary target column\n",
        "correlation, p_value = pointbiserialr(train_df['feature_8'], train_df['diagnosis'])\n",
        "\n",
        "print(\"Point-Biserial Correlation Coefficient:\", correlation)\n",
        "print(\"P-value:\", p_value)"
      ],
      "metadata": {
        "colab": {
          "base_uri": "https://localhost:8080/"
        },
        "id": "_oGiQ5Yr0X9h",
        "outputId": "06810039-d240-49e1-f288-c237a8246fc3"
      },
      "execution_count": 88,
      "outputs": [
        {
          "output_type": "stream",
          "name": "stdout",
          "text": [
            "Point-Biserial Correlation Coefficient: 0.013504771265964739\n",
            "P-value: 0.39316665267105994\n"
          ]
        }
      ]
    },
    {
      "cell_type": "markdown",
      "source": [
        "# **FEATURE-9 PROPERTIES**"
      ],
      "metadata": {
        "id": "x-Hht15R0d8a"
      }
    },
    {
      "cell_type": "code",
      "source": [
        "train_df['feature_9'].describe()\n",
        "train_df['feature_9'].value_counts()"
      ],
      "metadata": {
        "colab": {
          "base_uri": "https://localhost:8080/"
        },
        "id": "F1wsv0xa0g3O",
        "outputId": "079f89b1-8894-4816-f457-5d1c3ff78c8f"
      },
      "execution_count": 89,
      "outputs": [
        {
          "output_type": "execute_result",
          "data": {
            "text/plain": [
              "feature_9\n",
              "0.601115    1\n",
              "0.163397    1\n",
              "0.580156    1\n",
              "0.766624    1\n",
              "0.108254    1\n",
              "           ..\n",
              "0.728565    1\n",
              "0.443934    1\n",
              "0.682699    1\n",
              "0.906669    1\n",
              "0.521011    1\n",
              "Name: count, Length: 4000, dtype: int64"
            ]
          },
          "metadata": {},
          "execution_count": 89
        }
      ]
    },
    {
      "cell_type": "code",
      "source": [
        "# Assuming 'df' is your DataFrame and 'feature_column' is the name of your feature column\n",
        "max_value = train_df['feature_9'].max()\n",
        "min_value = train_df['feature_9'].min()\n",
        "\n",
        "print(\"Maximum value:\", max_value)\n",
        "print(\"Minimum value:\", min_value)"
      ],
      "metadata": {
        "colab": {
          "base_uri": "https://localhost:8080/"
        },
        "id": "yTbwAJde0mJp",
        "outputId": "19e291a3-0d20-4330-bbd2-b90d77b26561"
      },
      "execution_count": 90,
      "outputs": [
        {
          "output_type": "stream",
          "name": "stdout",
          "text": [
            "Maximum value: 0.9993503004722002\n",
            "Minimum value: 0.0001102318018224\n"
          ]
        }
      ]
    },
    {
      "cell_type": "code",
      "source": [
        "missingVals_feature_9 = train_df['feature_9'].isna().sum()\n",
        "missingVals_feature_9"
      ],
      "metadata": {
        "colab": {
          "base_uri": "https://localhost:8080/"
        },
        "id": "tqly3uvX0p_a",
        "outputId": "ddea664c-1027-4dfb-bd37-e2ece12df05b"
      },
      "execution_count": 91,
      "outputs": [
        {
          "output_type": "execute_result",
          "data": {
            "text/plain": [
              "0"
            ]
          },
          "metadata": {},
          "execution_count": 91
        }
      ]
    },
    {
      "cell_type": "code",
      "source": [
        "feature_9_std = train_df['feature_9'].std()\n",
        "print(feature_9_std)"
      ],
      "metadata": {
        "colab": {
          "base_uri": "https://localhost:8080/"
        },
        "id": "DYjbqbc20sLl",
        "outputId": "0189cf11-c1ee-4c6a-c380-bb9ec2c73f18"
      },
      "execution_count": 92,
      "outputs": [
        {
          "output_type": "stream",
          "name": "stdout",
          "text": [
            "0.28677925348586125\n"
          ]
        }
      ]
    },
    {
      "cell_type": "code",
      "source": [
        "feature_9_range = train_df['feature_9'].max() - train_df['feature_9'].min()\n",
        "print(feature_9_range)"
      ],
      "metadata": {
        "colab": {
          "base_uri": "https://localhost:8080/"
        },
        "id": "y28ffyNz0u7u",
        "outputId": "df721e9c-17e0-4700-fc03-289a32d7498d"
      },
      "execution_count": 93,
      "outputs": [
        {
          "output_type": "stream",
          "name": "stdout",
          "text": [
            "0.9992400686703778\n"
          ]
        }
      ]
    },
    {
      "cell_type": "code",
      "source": [
        "q1 = train_df['feature_9'].quantile(0.25) # 25th percentile\n",
        "q3 = train_df['feature_9'].quantile(0.75) #75th percentile\n",
        "IQR_feature_9 = q3-q1 #interquartile range\n",
        "k = IQR_feature_9*1.5\n",
        "outliers_feature_9 = train_df[(train_df['feature_9']< q1-k )| (train_df['feature_9']>q3+k)]\n",
        "print(\"No. of outliers:\",len(outliers_feature_9))\n",
        "#print(outliers_feature_9)\n",
        "print(\"IQR:\",IQR_feature_9)"
      ],
      "metadata": {
        "colab": {
          "base_uri": "https://localhost:8080/"
        },
        "id": "N2B90FjI0zRO",
        "outputId": "876f0d9b-3aee-4aba-940c-12b307ba4da7"
      },
      "execution_count": 94,
      "outputs": [
        {
          "output_type": "stream",
          "name": "stdout",
          "text": [
            "No. of outliers: 0\n",
            "IQR: 0.4952385852204103\n"
          ]
        }
      ]
    },
    {
      "cell_type": "code",
      "source": [
        "from scipy.stats import pointbiserialr\n",
        "\n",
        "# Assuming 'df' is your DataFrame, 'numerical_feature' is the name of your numerical column,\n",
        "# and 'binary_target' is the name of your binary target column\n",
        "correlation, p_value = pointbiserialr(train_df['feature_9'], train_df['diagnosis'])\n",
        "\n",
        "print(\"Point-Biserial Correlation Coefficient:\", correlation)\n",
        "print(\"P-value:\", p_value)"
      ],
      "metadata": {
        "colab": {
          "base_uri": "https://localhost:8080/"
        },
        "id": "nXtjJqYK073t",
        "outputId": "5b77b1bd-cc0f-4ab9-a3d9-cc56b954d27f"
      },
      "execution_count": 95,
      "outputs": [
        {
          "output_type": "stream",
          "name": "stdout",
          "text": [
            "Point-Biserial Correlation Coefficient: 0.013929494667786514\n",
            "P-value: 0.37845532562644724\n"
          ]
        }
      ]
    },
    {
      "cell_type": "markdown",
      "source": [
        "# **FEATURE-10 PROPERTIES**"
      ],
      "metadata": {
        "id": "xDcUq6Vy0_zk"
      }
    },
    {
      "cell_type": "code",
      "source": [
        "train_df['feature_10'].describe()\n",
        "train_df['feature_10'].value_counts()"
      ],
      "metadata": {
        "colab": {
          "base_uri": "https://localhost:8080/"
        },
        "id": "PK0e7O3N1DCw",
        "outputId": "18fa7b78-6a71-41bb-e7d6-83b73578599b"
      },
      "execution_count": 96,
      "outputs": [
        {
          "output_type": "execute_result",
          "data": {
            "text/plain": [
              "feature_10\n",
              "0.708073    1\n",
              "0.514614    1\n",
              "0.748302    1\n",
              "0.988305    1\n",
              "0.138111    1\n",
              "           ..\n",
              "0.344983    1\n",
              "0.596960    1\n",
              "0.392808    1\n",
              "0.408605    1\n",
              "0.861707    1\n",
              "Name: count, Length: 4000, dtype: int64"
            ]
          },
          "metadata": {},
          "execution_count": 96
        }
      ]
    },
    {
      "cell_type": "code",
      "source": [
        "max_value = train_df['feature_10'].max()\n",
        "min_value = train_df['feature_10'].min()\n",
        "\n",
        "print(\"Maximum value:\", max_value)\n",
        "print(\"Minimum value:\", min_value)"
      ],
      "metadata": {
        "colab": {
          "base_uri": "https://localhost:8080/"
        },
        "id": "DBvr4mhy1I5H",
        "outputId": "5d235687-5a4f-4e50-f895-ad2a043f10b1"
      },
      "execution_count": 97,
      "outputs": [
        {
          "output_type": "stream",
          "name": "stdout",
          "text": [
            "Maximum value: 0.9996732052420922\n",
            "Minimum value: 0.0003110125288008\n"
          ]
        }
      ]
    },
    {
      "cell_type": "code",
      "source": [
        "missingVals_feature_10 = train_df['feature_10'].isna().sum()\n",
        "missingVals_feature_10"
      ],
      "metadata": {
        "colab": {
          "base_uri": "https://localhost:8080/"
        },
        "id": "My4EGTyv1MBZ",
        "outputId": "c60137ec-a271-4912-a7cb-2697c80b9b18"
      },
      "execution_count": 98,
      "outputs": [
        {
          "output_type": "execute_result",
          "data": {
            "text/plain": [
              "0"
            ]
          },
          "metadata": {},
          "execution_count": 98
        }
      ]
    },
    {
      "cell_type": "code",
      "source": [
        "feature_10_std = train_df['feature_10'].std()\n",
        "print(feature_10_std)"
      ],
      "metadata": {
        "colab": {
          "base_uri": "https://localhost:8080/"
        },
        "id": "LgbVTJHQ1PHh",
        "outputId": "a3e9bf68-0de3-4745-ff76-8c172093b59d"
      },
      "execution_count": 99,
      "outputs": [
        {
          "output_type": "stream",
          "name": "stdout",
          "text": [
            "0.2894829270345466\n"
          ]
        }
      ]
    },
    {
      "cell_type": "code",
      "source": [
        "feature_10_range = train_df['feature_10'].max() - train_df['feature_10'].min()\n",
        "print(feature_10_range)"
      ],
      "metadata": {
        "colab": {
          "base_uri": "https://localhost:8080/"
        },
        "id": "V59f_C751RH5",
        "outputId": "1639fe83-1c86-4697-a155-0ef3f6de3c40"
      },
      "execution_count": 100,
      "outputs": [
        {
          "output_type": "stream",
          "name": "stdout",
          "text": [
            "0.9993621927132914\n"
          ]
        }
      ]
    },
    {
      "cell_type": "code",
      "source": [
        "q1 = train_df['feature_10'].quantile(0.25) # 25th percentile\n",
        "q3 = train_df['feature_10'].quantile(0.75) #75th percentile\n",
        "IQR_feature_10 = q3-q1 #interquartile range\n",
        "k = IQR_feature_10*1.5\n",
        "outliers_feature_10 = train_df[(train_df['feature_10']< q1-k )| (train_df['feature_10']>q3+k)]\n",
        "print(\"No. of outliers:\",len(outliers_feature_10))\n",
        "#print(outliers_feature_10)\n",
        "print(\"IQR:\",IQR_feature_10)"
      ],
      "metadata": {
        "colab": {
          "base_uri": "https://localhost:8080/"
        },
        "id": "tz6FziBy1U3l",
        "outputId": "0ed4fcaf-283e-4fc8-f324-735787e8ef50"
      },
      "execution_count": 103,
      "outputs": [
        {
          "output_type": "stream",
          "name": "stdout",
          "text": [
            "No. of outliers: 0\n",
            "IQR: 0.500001243523698\n"
          ]
        }
      ]
    },
    {
      "cell_type": "code",
      "source": [
        "from scipy.stats import pointbiserialr\n",
        "\n",
        "# Assuming 'df' is your DataFrame, 'numerical_feature' is the name of your numerical column,\n",
        "# and 'binary_target' is the name of your binary target column\n",
        "correlation, p_value = pointbiserialr(train_df['feature_10'], train_df['diagnosis'])\n",
        "\n",
        "print(\"Point-Biserial Correlation Coefficient:\", correlation)\n",
        "print(\"P-value:\", p_value)"
      ],
      "metadata": {
        "colab": {
          "base_uri": "https://localhost:8080/"
        },
        "id": "aLILwbAj1fXs",
        "outputId": "b92a6eae-7c72-4317-9e3f-a1822b337796"
      },
      "execution_count": 104,
      "outputs": [
        {
          "output_type": "stream",
          "name": "stdout",
          "text": [
            "Point-Biserial Correlation Coefficient: -0.018503159172338517\n",
            "P-value: 0.24201025017463199\n"
          ]
        }
      ]
    },
    {
      "cell_type": "markdown",
      "source": [
        "# **PATIENT-ID PROPERTIES**"
      ],
      "metadata": {
        "id": "6qi7UVeO1jUu"
      }
    },
    {
      "cell_type": "code",
      "source": [
        "train_df['patient_id'].describe()\n",
        "train_df['patient_id'].value_counts()"
      ],
      "metadata": {
        "colab": {
          "base_uri": "https://localhost:8080/"
        },
        "id": "ME3jiq541m2s",
        "outputId": "f4418503-6fac-4d5c-cf54-bf15e1e067ab"
      },
      "execution_count": 105,
      "outputs": [
        {
          "output_type": "execute_result",
          "data": {
            "text/plain": [
              "patient_id\n",
              "1       1\n",
              "3358    1\n",
              "3343    1\n",
              "3345    1\n",
              "3346    1\n",
              "       ..\n",
              "1642    1\n",
              "1643    1\n",
              "1644    1\n",
              "1645    1\n",
              "5000    1\n",
              "Name: count, Length: 4000, dtype: int64"
            ]
          },
          "metadata": {},
          "execution_count": 105
        }
      ]
    },
    {
      "cell_type": "code",
      "source": [
        "max_value = train_df['patient_id'].max()\n",
        "min_value = train_df['patient_id'].min()\n",
        "\n",
        "print(\"Maximum value:\", max_value)\n",
        "print(\"Minimum value:\", min_value)"
      ],
      "metadata": {
        "colab": {
          "base_uri": "https://localhost:8080/"
        },
        "id": "QhkOctC71sVQ",
        "outputId": "87177de5-01ee-406c-98ed-e15e43370484"
      },
      "execution_count": 106,
      "outputs": [
        {
          "output_type": "stream",
          "name": "stdout",
          "text": [
            "Maximum value: 5000\n",
            "Minimum value: 1\n"
          ]
        }
      ]
    },
    {
      "cell_type": "code",
      "source": [
        "missingVals_patient_id = train_df['patient_id'].isna().sum()\n",
        "missingVals_patient_id"
      ],
      "metadata": {
        "colab": {
          "base_uri": "https://localhost:8080/"
        },
        "id": "wvNarIEh1157",
        "outputId": "d868f707-e561-4aac-fb79-89021c66a450"
      },
      "execution_count": 107,
      "outputs": [
        {
          "output_type": "execute_result",
          "data": {
            "text/plain": [
              "0"
            ]
          },
          "metadata": {},
          "execution_count": 107
        }
      ]
    },
    {
      "cell_type": "code",
      "source": [
        "feature_patient_id = train_df['patient_id'].std()\n",
        "print(feature_patient_id)"
      ],
      "metadata": {
        "colab": {
          "base_uri": "https://localhost:8080/"
        },
        "id": "HBylE5U_14UB",
        "outputId": "d4be1b60-271c-43ab-d225-995cf64ddc3a"
      },
      "execution_count": 108,
      "outputs": [
        {
          "output_type": "stream",
          "name": "stdout",
          "text": [
            "1454.3340033915156\n"
          ]
        }
      ]
    },
    {
      "cell_type": "code",
      "source": [
        "feature_patient_id = train_df['patient_id'].max() - train_df['patient_id'].min()\n",
        "print(feature_patient_id)"
      ],
      "metadata": {
        "colab": {
          "base_uri": "https://localhost:8080/"
        },
        "id": "hzvaTsvp16nh",
        "outputId": "44e58488-0fb4-47af-8430-c17bf82fc1f8"
      },
      "execution_count": 109,
      "outputs": [
        {
          "output_type": "stream",
          "name": "stdout",
          "text": [
            "4999\n"
          ]
        }
      ]
    },
    {
      "cell_type": "code",
      "source": [
        "q1 = train_df['patient_id'].quantile(0.25) # 25th percentile\n",
        "q3 = train_df['patient_id'].quantile(0.75) #75th percentile\n",
        "IQR_patient_id = q3-q1 #interquartile range\n",
        "k = IQR_patient_id*1.5\n",
        "outliers_patient_id = train_df[(train_df['patient_id']< q1-k )| (train_df['patient_id']>q3+k)]\n",
        "print(\"No. of outliers:\",len(outliers_patient_id))\n",
        "#print(outliers_patient_id)\n",
        "print(\"IQR:\",IQR_patient_id)"
      ],
      "metadata": {
        "colab": {
          "base_uri": "https://localhost:8080/"
        },
        "id": "w9LIzehH1-2P",
        "outputId": "136e67ac-d320-4373-cfa9-65fc0e02e828"
      },
      "execution_count": 110,
      "outputs": [
        {
          "output_type": "stream",
          "name": "stdout",
          "text": [
            "No. of outliers: 0\n",
            "IQR: 2536.5\n"
          ]
        }
      ]
    },
    {
      "cell_type": "code",
      "source": [
        "from scipy.stats import pointbiserialr\n",
        "\n",
        "# Assuming 'df' is your DataFrame, 'numerical_feature' is the name of your numerical column,\n",
        "# and 'binary_target' is the name of your binary target column\n",
        "correlation, p_value = pointbiserialr(train_df['patient_id'], train_df['diagnosis'])\n",
        "\n",
        "print(\"Point-Biserial Correlation Coefficient:\", correlation)\n",
        "print(\"P-value:\", p_value)"
      ],
      "metadata": {
        "colab": {
          "base_uri": "https://localhost:8080/"
        },
        "id": "KcCCpQIG3J2L",
        "outputId": "b6c3da57-1706-429c-93ff-217b4d51203d"
      },
      "execution_count": 118,
      "outputs": [
        {
          "output_type": "stream",
          "name": "stdout",
          "text": [
            "Point-Biserial Correlation Coefficient: 0.011434853951149172\n",
            "P-value: 0.4696791064943473\n"
          ]
        }
      ]
    },
    {
      "cell_type": "markdown",
      "source": [
        "# **DIAGNOSIS COLUMN PROPERTIES**"
      ],
      "metadata": {
        "id": "u8F8f7VF2Y30"
      }
    },
    {
      "cell_type": "code",
      "source": [
        "train_df['diagnosis'].describe()\n",
        "train_df['diagnosis'].value_counts()"
      ],
      "metadata": {
        "colab": {
          "base_uri": "https://localhost:8080/"
        },
        "id": "GoVVVfEE2cDR",
        "outputId": "ff8098b5-d2d4-4487-dbe8-d040f9dc0c58"
      },
      "execution_count": 112,
      "outputs": [
        {
          "output_type": "execute_result",
          "data": {
            "text/plain": [
              "diagnosis\n",
              "0    3804\n",
              "1     196\n",
              "Name: count, dtype: int64"
            ]
          },
          "metadata": {},
          "execution_count": 112
        }
      ]
    },
    {
      "cell_type": "code",
      "source": [
        "max_value = train_df['diagnosis'].max()\n",
        "min_value = train_df['diagnosis'].min()\n",
        "\n",
        "print(\"Maximum value:\", max_value)\n",
        "print(\"Minimum value:\", min_value)"
      ],
      "metadata": {
        "colab": {
          "base_uri": "https://localhost:8080/"
        },
        "id": "Q8ayrPOD2hIO",
        "outputId": "05f48b0f-23d3-4c6d-b75a-13ac767f2d55"
      },
      "execution_count": 113,
      "outputs": [
        {
          "output_type": "stream",
          "name": "stdout",
          "text": [
            "Maximum value: 1\n",
            "Minimum value: 0\n"
          ]
        }
      ]
    },
    {
      "cell_type": "code",
      "source": [
        "missingVals_patient_id = train_df['diagnosis'].isna().sum()\n",
        "missingVals_patient_id"
      ],
      "metadata": {
        "colab": {
          "base_uri": "https://localhost:8080/"
        },
        "id": "fwEU3NVX2k_f",
        "outputId": "48e6b256-4466-4118-cfb1-16a58f9eb554"
      },
      "execution_count": 114,
      "outputs": [
        {
          "output_type": "execute_result",
          "data": {
            "text/plain": [
              "0"
            ]
          },
          "metadata": {},
          "execution_count": 114
        }
      ]
    },
    {
      "cell_type": "code",
      "source": [
        "feature_diagnosis =train_df['diagnosis'].std()\n",
        "print(feature_diagnosis)"
      ],
      "metadata": {
        "colab": {
          "base_uri": "https://localhost:8080/"
        },
        "id": "uBqJ0yoB2oKu",
        "outputId": "7cf63da7-1804-448d-82e6-69e043338c46"
      },
      "execution_count": 115,
      "outputs": [
        {
          "output_type": "stream",
          "name": "stdout",
          "text": [
            "0.21589500379389465\n"
          ]
        }
      ]
    },
    {
      "cell_type": "code",
      "source": [
        "feature_diagnosis = train_df['diagnosis'].max() - train_df['diagnosis'].min()\n",
        "print(feature_diagnosis)"
      ],
      "metadata": {
        "colab": {
          "base_uri": "https://localhost:8080/"
        },
        "id": "SeuausDS2sv1",
        "outputId": "85be5470-8005-41e1-c771-6e0424234f45"
      },
      "execution_count": 116,
      "outputs": [
        {
          "output_type": "stream",
          "name": "stdout",
          "text": [
            "1\n"
          ]
        }
      ]
    },
    {
      "cell_type": "code",
      "source": [
        "q1 = train_df['diagnosis'].quantile(0.25) # 25th percentile\n",
        "q3 = train_df['diagnosis'].quantile(0.75) #75th percentile\n",
        "IQR_diagnosis = q3-q1 #interquartile range\n",
        "k = IQR_diagnosis*1.5\n",
        "outliers_diagnosis = train_df[(train_df['diagnosis']< q1-k )| (train_df['diagnosis']>q3+k)]\n",
        "print(\"No. of outliers:\",len(outliers_diagnosis))\n",
        "#print(outliers_diagnosis)\n",
        "print(\"IQR:\",IQR_diagnosis)"
      ],
      "metadata": {
        "colab": {
          "base_uri": "https://localhost:8080/"
        },
        "id": "y6sT0K1M2xA6",
        "outputId": "d7d5be0a-8c7f-4f33-d212-a6d933055b11"
      },
      "execution_count": 117,
      "outputs": [
        {
          "output_type": "stream",
          "name": "stdout",
          "text": [
            "No. of outliers: 196\n",
            "IQR: 0.0\n"
          ]
        }
      ]
    },
    {
      "cell_type": "markdown",
      "source": [
        "# **TRAINED RF WITHOUT OPTIMIZING HYPERPARAMETERS**"
      ],
      "metadata": {
        "id": "PX3RfYXI3mZ3"
      }
    },
    {
      "cell_type": "code",
      "execution_count": 119,
      "metadata": {
        "colab": {
          "base_uri": "https://localhost:8080/",
          "height": 1000
        },
        "id": "KyViES_xNhQD",
        "outputId": "8136951e-d08a-4e77-f102-c6804c41246e"
      },
      "outputs": [
        {
          "output_type": "stream",
          "name": "stdout",
          "text": [
            "Patient ID and Diagnosis from the Training Dataset:\n",
            "      patient_id  diagnosis\n",
            "0              1          0\n",
            "1              2          0\n",
            "2              3          0\n",
            "3              7          0\n",
            "4              8          0\n",
            "...          ...        ...\n",
            "3995        4996          0\n",
            "3996        4997          0\n",
            "3997        4998          0\n",
            "3998        4999          0\n",
            "3999        5000          0\n",
            "\n",
            "[4000 rows x 2 columns]\n"
          ]
        },
        {
          "output_type": "display_data",
          "data": {
            "text/plain": [
              "<Figure size 640x480 with 1 Axes>"
            ],
            "image/png": "[encoded data removed]"
          },
          "metadata": {}
        },
        {
          "output_type": "stream",
          "name": "stdout",
          "text": [
            " ROC-AUC Score with RandomForestClassifier: 0.9744135687347175\n",
            "Accuracy: 0.9743758212877792\n",
            "Precision: 0.9686274509803922\n",
            "Recall: 0.9801587301587301\n",
            "F1 Score: 0.9743589743589743\n",
            "Confusion Matrix: \n",
            "[[742  24]\n",
            " [ 15 741]]\n",
            "\n",
            "Validation Actual vs Predicted:\n",
            "      actual  predicted\n",
            "2644       0          0\n",
            "2227       0          0\n",
            "5698       1          1\n",
            "132        0          0\n",
            "3172       0          0\n",
            "\n",
            "Test Predictions:\n",
            "   patient_id  prediction\n",
            "0           4           0\n",
            "1           5           0\n",
            "2           6           0\n",
            "3          10           0\n",
            "4          12           0\n",
            "File saved successfully at: /content/drive/MyDrive/SE22UCSE187_noCV_predictions.csv\n"
          ]
        }
      ],
      "source": [
        "import pandas as pd\n",
        "import numpy as np\n",
        "from sklearn.ensemble import RandomForestClassifier\n",
        "from sklearn.model_selection import train_test_split\n",
        "from sklearn.preprocessing import StandardScaler\n",
        "from sklearn.metrics import roc_auc_score, confusion_matrix, accuracy_score, precision_score, recall_score, f1_score\n",
        "import matplotlib.pyplot as plt\n",
        "import os\n",
        "from imblearn.over_sampling import BorderlineSMOTE\n",
        "\n",
        "# Load your datasets\n",
        "train_df =  pd.read_csv(\"/content/drive/MyDrive/Disease_train.csv\")\n",
        "test_df = pd.read_csv('/content/drive/MyDrive/Disease_test.csv')\n",
        "\n",
        "# Print all the values of patient_id and diagnosis from the training dataset\n",
        "print(\"Patient ID and Diagnosis from the Training Dataset:\")\n",
        "print(train_df[['patient_id', 'diagnosis']])\n",
        "\n",
        "# Visualize the distribution of the target variable\n",
        "plt.hist(train_df['diagnosis'], bins=20)\n",
        "plt.title('Distribution of Target Variable')\n",
        "plt.xlabel('Diagnosis')\n",
        "plt.ylabel('Frequency')\n",
        "plt.show()\n",
        "\n",
        "# Extract features and target from training data\n",
        "X = train_df.drop(['patient_id', 'diagnosis'], axis=1)\n",
        "y = train_df['diagnosis']\n",
        "\n",
        "# Drop 'patient_id' from test set\n",
        "X_test = test_df.drop('patient_id', axis=1)\n",
        "\n",
        "# Standard scaling\n",
        "scaler = StandardScaler()\n",
        "X_train_scaled = scaler.fit_transform(X)\n",
        "X_test_scaled = scaler.transform(X_test)\n",
        "\n",
        "from imblearn.over_sampling import BorderlineSMOTE\n",
        "\n",
        "# Apply BorderlineSMOTE to handle class imbalance\n",
        "borderline_smote = BorderlineSMOTE(random_state=42)\n",
        "X_resampled, y_resampled = borderline_smote.fit_resample(X_train_scaled, y)\n",
        "\n",
        "# Split the resampled data into training and validation sets\n",
        "X_train, X_test, y_train, y_test = train_test_split(X_resampled, y_resampled, test_size=0.2, random_state=42)\n",
        "\n",
        "# Initialize and train the RandomForestClassifier\n",
        "rf_model = RandomForestClassifier(random_state=42)\n",
        "rf_model.fit(X_train, y_train)\n",
        "\n",
        "# Evaluate the model on the validation set\n",
        "y_test_pred = rf_model.predict(X_test)\n",
        "roc_auc = roc_auc_score(y_test, y_test_pred)\n",
        "print(f' ROC-AUC Score with RandomForestClassifier: {roc_auc}')\n",
        "\n",
        "# Calculate other metrics\n",
        "accuracy = accuracy_score(y_test, y_test_pred)\n",
        "precision = precision_score(y_test, y_test_pred)\n",
        "recall = recall_score(y_test, y_test_pred)\n",
        "f1 = f1_score(y_test, y_test_pred)\n",
        "conf_matrix = confusion_matrix(y_test, y_test_pred)\n",
        "\n",
        "# Print the metrics\n",
        "print(f'Accuracy: {accuracy}')\n",
        "print(f'Precision: {precision}')\n",
        "print(f'Recall: {recall}')\n",
        "print(f'F1 Score: {f1}')\n",
        "print(f'Confusion Matrix: \\n{conf_matrix}')\n",
        "\n",
        "# Create a DataFrame with actual and predicted values\n",
        "validation_results = pd.DataFrame({\n",
        "    'actual': y_test,\n",
        "    'predicted': y_test_pred\n",
        "})\n",
        "\n",
        "# Print the DataFrame\n",
        "print(\"\\nValidation Actual vs Predicted:\")\n",
        "print(validation_results.head())\n",
        "\n",
        "# Make predictions on the test dataset\n",
        "test_predictions = rf_model.predict(X_test_scaled)\n",
        "\n",
        "# Create a DataFrame with the predictions\n",
        "predictions_df = pd.DataFrame({\n",
        "    'patient_id': test_df['patient_id'],\n",
        "    'prediction': test_predictions\n",
        "})\n",
        "\n",
        "# Print the predictions\n",
        "print(\"\\nTest Predictions:\")\n",
        "print(predictions_df.head())\n",
        "\n",
        "# Save the predictions to a CSV file\n",
        "output_path = '/content/drive/MyDrive/SE22UCSE187_noCV_predictions.csv'\n",
        "predictions_df.to_csv(output_path, index=False)\n",
        "\n",
        "# Confirm the file is saved\n",
        "if os.path.exists(output_path):\n",
        "    print(f\"File saved successfully at: {output_path}\")\n",
        "else:\n",
        "    print(\"File not found.\")"
      ]
    },
    {
      "cell_type": "markdown",
      "source": [
        "# **OPTIMIZING HYPERPARAMETERS FOR RF USING GRID SEARCH CV**"
      ],
      "metadata": {
        "id": "q27TEnT832Zf"
      }
    },
    {
      "cell_type": "code",
      "source": [
        "from sklearn.model_selection import GridSearchCV\n",
        "\n",
        "# Define the parameter grid\n",
        "param_grid = {\n",
        "    'n_estimators': [100, 200, 300],\n",
        "    'max_depth': [None, 10, 20, 30],\n",
        "    'min_samples_split': [2, 5, 10],\n",
        "    'min_samples_leaf': [1, 2, 4],\n",
        "    'bootstrap': [True, False]\n",
        "}\n",
        "\n",
        "# Initialize the RandomForestClassifier\n",
        "rf_model = RandomForestClassifier(random_state=42)\n",
        "\n",
        "# Initialize GridSearchCV\n",
        "grid_search = GridSearchCV(estimator=rf_model, param_grid=param_grid,\n",
        "                           cv=5, n_jobs=-1, verbose=2, scoring='roc_auc')\n",
        "\n",
        "# Fit GridSearchCV\n",
        "grid_search.fit(X_resampled, y_resampled)\n",
        "\n",
        "# Get the best estimator\n",
        "best_rf_model = grid_search.best_estimator_\n",
        "\n",
        "# Evaluate the best model on the validation set\n",
        "y_test_pred = best_rf_model.predict(X_test)\n",
        "roc_auc = roc_auc_score(y_test, y_test_pred)\n",
        "accuracy = accuracy_score(y_test, y_test_pred)\n",
        "precision = precision_score(y_test, y_test_pred)\n",
        "recall = recall_score(y_test, y_test_pred)\n",
        "f1 = f1_score(y_test, y_test_pred)\n",
        "conf_matrix = confusion_matrix(y_test, y_test_pred)\n",
        "\n",
        "# Print the best parameters and the metrics\n",
        "print(f'Best Parameters: {grid_search.best_params_}')\n",
        "print(f'ROC-AUC Score with Best RandomForestClassifier: {roc_auc}')\n",
        "print(f'Accuracy: {accuracy}')\n",
        "print(f'Precision: {precision}')\n",
        "print(f'Recall: {recall}')\n",
        "print(f'F1 Score: {f1}')\n",
        "print(f'Confusion Matrix: \\n{conf_matrix}')\n"
      ],
      "metadata": {
        "colab": {
          "base_uri": "https://localhost:8080/"
        },
        "id": "EIui-uS5QWpL",
        "outputId": "ff4c4722-67ca-41e0-8a46-970d07a80896"
      },
      "execution_count": 4,
      "outputs": [
        {
          "output_type": "stream",
          "name": "stdout",
          "text": [
            "Fitting 5 folds for each of 216 candidates, totalling 1080 fits\n",
            "Best Parameters: {'bootstrap': False, 'max_depth': None, 'min_samples_leaf': 1, 'min_samples_split': 2, 'n_estimators': 300}\n",
            "ROC-AUC Score with Best RandomForestClassifier: 1.0\n",
            "Accuracy: 1.0\n",
            "Precision: 1.0\n",
            "Recall: 1.0\n",
            "F1 Score: 1.0\n",
            "Confusion Matrix: \n",
            "[[766   0]\n",
            " [  0 756]]\n"
          ]
        }
      ]
    },
    {
      "cell_type": "markdown",
      "source": [
        "# **TRAINING RF BASED ON THE OPTIMIZED HYPERPARAMS**"
      ],
      "metadata": {
        "id": "eJ3ZQLeU34aU"
      }
    },
    {
      "cell_type": "code",
      "source": [
        "import pandas as pd\n",
        "import numpy as np\n",
        "from sklearn.ensemble import RandomForestClassifier\n",
        "from sklearn.model_selection import cross_validate, StratifiedKFold\n",
        "from sklearn.preprocessing import StandardScaler\n",
        "from imblearn.over_sampling import BorderlineSMOTE\n",
        "from sklearn.metrics import accuracy_score, precision_score, recall_score, f1_score, roc_auc_score\n",
        "from sklearn.metrics import accuracy_score, precision_score, recall_score, f1_score, roc_auc_score, make_scorer\n",
        "import os as os\n",
        "\n",
        "# 1. Load and Prepare Data\n",
        "train_data = pd.read_csv(\"/content/drive/MyDrive/Disease_train.csv\")\n",
        "test_data = pd.read_csv('/content/drive/MyDrive/Disease_test.csv')\n",
        "\n",
        "# Separate features and target\n",
        "features = train_data.drop(columns=['patient_id', 'diagnosis'])\n",
        "labels = train_data['diagnosis']\n",
        "\n",
        "# Standardize features\n",
        "feature_scaler = StandardScaler()\n",
        "scaled_features = feature_scaler.fit_transform(features)\n",
        "\n",
        "# Apply Borderline SMOTE for handling class imbalance\n",
        "oversampler = BorderlineSMOTE(random_state=42, kind=\"borderline-1\")\n",
        "features_oversampled, labels_oversampled = oversampler.fit_resample(scaled_features, labels)\n",
        "\n",
        "# Prepare testing data (scaling only, no oversampling)\n",
        "test_features = test_data.drop(columns=['patient_id'])\n",
        "test_features_scaled = feature_scaler.transform(test_features)\n",
        "\n",
        "# 2. Model Selection and Cross-Validation\n",
        "best_params_ = {\n",
        "    'n_estimators': 300,\n",
        "    'max_depth': None,\n",
        "    'min_samples_split': 2,\n",
        "    'min_samples_leaf': 1,\n",
        "    'bootstrap': False\n",
        "}\n",
        "\n",
        "# Fit the model on the resampled training data\n",
        "clf = RandomForestClassifier(**best_params_ , random_state=42)\n",
        "\n",
        "# Define evaluation metrics for cross-validation\n",
        "scoring_metrics = {\n",
        "    'Accuracy': make_scorer(accuracy_score),\n",
        "    'Precision': make_scorer(precision_score),\n",
        "    'Recall': make_scorer(recall_score),\n",
        "    'F1 Score': make_scorer(f1_score),\n",
        "    'ROC-AUC': make_scorer(roc_auc_score)\n",
        "}\n",
        "\n",
        "# Perform cross-validation\n",
        "cv = StratifiedKFold(n_splits=5, shuffle=True, random_state=42)\n",
        "cv_scores = cross_validate(clf, features_oversampled, labels_oversampled, cv=cv, scoring=scoring_metrics)\n",
        "\n",
        "\n",
        "# 3. Display Cross-Validation Results\n",
        "print(\"\\nCross-Validation Results:\")\n",
        "for metric, values in cv_scores.items():\n",
        "    if metric.startswith('test_'):\n",
        "        metric_name = metric.replace('test_', '')  # Make the name more readable\n",
        "        print(f\"{metric_name}: {np.mean(values):.4f} ± {np.std(values):.4f}\")\n",
        "\n",
        "\n",
        "# 4. Final Model Training and Prediction\n",
        "final_model = RandomForestClassifier(**best_params_ , random_state=42)\n",
        "final_model.fit(features_oversampled, labels_oversampled)\n",
        "\n",
        "# Make predictions on the test set\n",
        "test_predictions = final_model.predict(test_features_scaled)\n",
        "\n",
        "\n",
        "# 5. Prepare and Save Results\n",
        "results_df = pd.DataFrame({'patient_id': test_data['patient_id'], 'prediction': test_predictions})\n",
        "\n",
        "# Save the predictions to a CSV file, specifying a path within your Drive\n",
        "output_filename = 'SE22UCSE187_predictions.csv'\n",
        "output_path = os.path.join('/content/drive/MyDrive', output_filename)  # Save within 'MyDrive'\n",
        "results_df.to_csv(output_path, index=False)\n",
        "\n",
        "print(f\"\\nPredictions saved to: {output_path}\")\n"
      ],
      "metadata": {
        "colab": {
          "base_uri": "https://localhost:8080/"
        },
        "id": "dbp9bIKdEy0l",
        "outputId": "e4883638-de13-4c84-a6ad-3380f79f0a6a"
      },
      "execution_count": 7,
      "outputs": [
        {
          "output_type": "stream",
          "name": "stdout",
          "text": [
            "\n",
            "Cross-Validation Results:\n",
            "Accuracy: 0.9753 ± 0.0046\n",
            "Precision: 0.9809 ± 0.0059\n",
            "Recall: 0.9695 ± 0.0040\n",
            "F1 Score: 0.9752 ± 0.0046\n",
            "ROC-AUC: 0.9753 ± 0.0046\n",
            "\n",
            "Predictions saved to: /content/drive/MyDrive/SE22UCSE187_predictions.csv\n"
          ]
        }
      ]
    },
    {
      "cell_type": "markdown",
      "source": [
        "# **COUNTING THE NUMBER OF 0's AND 1's OCCURED IN PREDICTION FILE**"
      ],
      "metadata": {
        "id": "M6KI_UPd4eSx"
      }
    },
    {
      "cell_type": "code",
      "source": [
        "import csv\n",
        "\n",
        "filename = '/content/drive/MyDrive/SE22UCSE187_predictions.csv'  # Path to your CSV file\n",
        "column_name = 'prediction'  # Column name to search\n",
        "value_to_count = '0'  # Value to count\n",
        "\n",
        "count = 0\n",
        "\n",
        "with open(filename, mode='r', newline='', encoding='utf-8') as file:\n",
        "    reader = csv.DictReader(file)\n",
        "    for row in reader:\n",
        "        if row[column_name] == value_to_count:\n",
        "            count += 1\n",
        "\n",
        "print(f'The value \"{value_to_count}\" appears {count} times in the column \"{column_name}\".')"
      ],
      "metadata": {
        "colab": {
          "base_uri": "https://localhost:8080/"
        },
        "id": "lHAsSrpRntpC",
        "outputId": "3239c00d-4dde-4787-fa96-e9cd7de63f2e"
      },
      "execution_count": 12,
      "outputs": [
        {
          "output_type": "stream",
          "name": "stdout",
          "text": [
            "The value \"0\" appears 981 times in the column \"prediction\".\n"
          ]
        }
      ]
    },
    {
      "cell_type": "code",
      "source": [
        "import csv\n",
        "\n",
        "filename = '/content/drive/MyDrive/SE22UCSE187_predictions.csv'  # Path to your CSV file\n",
        "column_name = 'prediction'  # Column name to search\n",
        "value_to_count = '1'  # Value to count\n",
        "\n",
        "count = 0\n",
        "\n",
        "with open(filename, mode='r', newline='', encoding='utf-8') as file:\n",
        "    reader = csv.DictReader(file)\n",
        "    for row in reader:\n",
        "        if row[column_name] == value_to_count:\n",
        "            count += 1\n",
        "\n",
        "print(f'The value \"{value_to_count}\" appears {count} times in the column \"{column_name}\".')"
      ],
      "metadata": {
        "colab": {
          "base_uri": "https://localhost:8080/"
        },
        "id": "kgjNKKGBnuTw",
        "outputId": "eb7967a7-147e-4d50-9c87-84dd1e9bab73"
      },
      "execution_count": 13,
      "outputs": [
        {
          "output_type": "stream",
          "name": "stdout",
          "text": [
            "The value \"1\" appears 19 times in the column \"prediction\".\n"
          ]
        }
      ]
    }
  ]
}